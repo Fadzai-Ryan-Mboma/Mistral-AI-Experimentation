{
 "cells": [
  {
   "cell_type": "code",
   "execution_count": 1,
   "id": "3802eb4e",
   "metadata": {},
   "outputs": [
    {
     "name": "stdout",
     "output_type": "stream",
     "text": [
      "Requirement already satisfied: mistralai in c:\\users\\fadzai.mboma\\appdata\\local\\anaconda3\\lib\\site-packages (1.9.10)Note: you may need to restart the kernel to use updated packages.\n",
      "\n",
      "Requirement already satisfied: pydantic>=2.10.3 in c:\\users\\fadzai.mboma\\appdata\\local\\anaconda3\\lib\\site-packages (from mistralai) (2.11.7)\n",
      "Requirement already satisfied: eval-type-backport>=0.2.0 in c:\\users\\fadzai.mboma\\appdata\\local\\anaconda3\\lib\\site-packages (from mistralai) (0.2.2)\n",
      "Requirement already satisfied: typing-inspection>=0.4.0 in c:\\users\\fadzai.mboma\\appdata\\local\\anaconda3\\lib\\site-packages (from mistralai) (0.4.1)\n",
      "Requirement already satisfied: invoke<3.0.0,>=2.2.0 in c:\\users\\fadzai.mboma\\appdata\\local\\anaconda3\\lib\\site-packages (from mistralai) (2.2.0)\n",
      "Requirement already satisfied: httpx>=0.28.1 in c:\\users\\fadzai.mboma\\appdata\\local\\anaconda3\\lib\\site-packages (from mistralai) (0.28.1)\n",
      "Requirement already satisfied: python-dateutil>=2.8.2 in c:\\users\\fadzai.mboma\\appdata\\local\\anaconda3\\lib\\site-packages (from mistralai) (2.8.2)\n",
      "Requirement already satisfied: pyyaml<7.0.0,>=6.0.2 in c:\\users\\fadzai.mboma\\appdata\\local\\anaconda3\\lib\\site-packages (from mistralai) (6.0.2)\n",
      "Requirement already satisfied: certifi in c:\\users\\fadzai.mboma\\appdata\\local\\anaconda3\\lib\\site-packages (from httpx>=0.28.1->mistralai) (2025.8.3)\n",
      "Requirement already satisfied: idna in c:\\users\\fadzai.mboma\\appdata\\local\\anaconda3\\lib\\site-packages (from httpx>=0.28.1->mistralai) (3.4)\n",
      "Requirement already satisfied: httpcore==1.* in c:\\users\\fadzai.mboma\\appdata\\local\\anaconda3\\lib\\site-packages (from httpx>=0.28.1->mistralai) (1.0.9)\n",
      "Requirement already satisfied: anyio in c:\\users\\fadzai.mboma\\appdata\\local\\anaconda3\\lib\\site-packages (from httpx>=0.28.1->mistralai) (3.5.0)\n",
      "Requirement already satisfied: h11>=0.16 in c:\\users\\fadzai.mboma\\appdata\\local\\anaconda3\\lib\\site-packages (from httpcore==1.*->httpx>=0.28.1->mistralai) (0.16.0)\n",
      "Requirement already satisfied: typing-extensions>=4.12.2 in c:\\users\\fadzai.mboma\\appdata\\local\\anaconda3\\lib\\site-packages (from pydantic>=2.10.3->mistralai) (4.15.0)\n",
      "Requirement already satisfied: pydantic-core==2.33.2 in c:\\users\\fadzai.mboma\\appdata\\local\\anaconda3\\lib\\site-packages (from pydantic>=2.10.3->mistralai) (2.33.2)\n",
      "Requirement already satisfied: annotated-types>=0.6.0 in c:\\users\\fadzai.mboma\\appdata\\local\\anaconda3\\lib\\site-packages (from pydantic>=2.10.3->mistralai) (0.7.0)\n",
      "Requirement already satisfied: six>=1.5 in c:\\users\\fadzai.mboma\\appdata\\local\\anaconda3\\lib\\site-packages (from python-dateutil>=2.8.2->mistralai) (1.16.0)\n",
      "Requirement already satisfied: sniffio>=1.1 in c:\\users\\fadzai.mboma\\appdata\\local\\anaconda3\\lib\\site-packages (from anyio->httpx>=0.28.1->mistralai) (1.2.0)\n"
     ]
    }
   ],
   "source": [
    "pip install mistralai"
   ]
  },
  {
   "cell_type": "code",
   "execution_count": 2,
   "id": "530b35cc",
   "metadata": {},
   "outputs": [],
   "source": [
    "import os\n",
    "import httpx\n",
    "from mistralai import Mistral\n",
    "\n",
    "client_httpx = httpx.Client(verify=False)\n",
    "\n",
    "api_key = \"76yvXhlBM63qCdkGKh5SCgTmT1QyMHCV\"\n",
    "\n",
    "client = Mistral(api_key=api_key, client=client_httpx)"
   ]
  },
  {
   "cell_type": "code",
   "execution_count": 3,
   "id": "07fadf60",
   "metadata": {},
   "outputs": [
    {
     "name": "stdout",
     "output_type": "stream",
     "text": [
      "**Shona:** \"Kana ndiwo murimba wekwaunoda.\"\n",
      "\n",
      "**Swahili:** \"Hii ni siku ya kufaida kama kawaida.\"\n"
     ]
    }
   ],
   "source": [
    "# Test 1.1: This is a fine chill morning (Translate to Shona and Swahili) with Mistral Medium as user\n",
    "\n",
    "chat_response = client.chat.complete(\n",
    "    model = \"mistral-tiny-latest\",\n",
    "    messages=[\n",
    "        {\n",
    "            \"role\": \"user\",\n",
    "            \"content\": \"Translate to Shona and Swahili : This is a fine chill morning\",\n",
    "        },\n",
    "    ]\n",
    ")\n",
    "\n",
    "print(chat_response.choices[0].message.content)"
   ]
  },
  {
   "cell_type": "code",
   "execution_count": 4,
   "id": "4753a325",
   "metadata": {},
   "outputs": [
    {
     "name": "stdout",
     "output_type": "stream",
     "text": [
      "Here are the translations of your request in **Shona** and **Swahili**:\n",
      "\n",
      "### **Shona:**\n",
      "*\"Ndine simba, ndinoda mhanya yekuponeswa. Handizivi kuti ndaende kupi. Ndipeiwo mhanya, ndinokurumbira.\"*\n",
      "\n",
      "*(Alternative, more formal:)*\n",
      "*\"Ndipeiwo mhanya, ndinokurumbira. Ndine simba, ndinoda rufu rwekuponesa, asi handizivi kuti ndaende kupi.\"*\n",
      "\n",
      "---\n",
      "\n",
      "### **Swahili:**\n",
      "*\"Tafadhali nisaidie. Ninahitaji msaada wa matibabu na sijui ni kwenda wapi.\"*\n",
      "\n",
      "*(Alternative, more urgent:)*\n",
      "*\"Naomba msaada wako haraka. Ninahitaji matibabu na sijui hospitali ipi inafaa kwangu.\"*\n",
      "\n",
      "---\n"
     ]
    }
   ],
   "source": [
    "# Test 2.1: May you please help me. I need medical help and l am not sure of where to go \n",
    "# (Translate to Shona and Swahili) with Mistral Medium\n",
    "\n",
    "chat_response = client.chat.complete(\n",
    "    model = \"mistral-large-latest\",\n",
    "    messages=[\n",
    "        {\n",
    "            \"role\": \"system\",\n",
    "            \"content\": \"Translate to Shona and Swahili : May you please help me. I need medical help and l am not sure of where to go\",\n",
    "        },\n",
    "    ]\n",
    ")\n",
    "\n",
    "print(chat_response.choices[0].message.content)"
   ]
  },
  {
   "cell_type": "code",
   "execution_count": 5,
   "id": "81757ffc",
   "metadata": {},
   "outputs": [
    {
     "name": "stdout",
     "output_type": "stream",
     "text": [
      "Here is the translation of your text into **Shona** and **English**:\n",
      "\n",
      "---\n",
      "\n",
      "### **Shona Translation:**\n",
      "**Zita rangu ndiri Aisha. Ini ndiri mwanachikoro wechikoro chekupinda. Ndakabva kumunagarwa weMombasa. Ndiri kuzotora nehama yangu. Ndichada kusoma zvibuku nekubata neti. Mufambi wangu anoziva kare anoziva David. Yeye ndiye mubatsiri wempira dzekumikono. Tinofurira zvakanaka tese tinogeza pamwe.**\n",
      "\n",
      "*(Note: Some terms like \"basketball\" and \"university\" may vary slightly in Shona dialects, but this is a standard translation.)*\n",
      "\n",
      "---\n",
      "\n",
      "### **English Translation:**\n",
      "**My name is Aisha. I am a university student. I come from the city of Mombasa. I live with my family. I enjoy reading books and playing basketball. My close friend is named David. He is a football (soccer) player. We are very happy when we are together.**\n",
      "\n",
      "---\n"
     ]
    }
   ],
   "source": [
    "# Test 3.1: Jina langu ni Aisha. Mimi ni mwanafunzi wa Chuo Kikuu. Natoka katika mji wa Mombasa. \n",
    "# Ninaishi na familia yangu. Ninapenda kusoma vitabu na kucheza mpira wa kikapu. \n",
    "# Rafiki yangu wa karibu anaitwa David. Yeye ni mchezaji wa mpira wa miguu. \n",
    "# Tunafurahi sana tunapokuwa pamoja.  \n",
    "# (Translate to Shona and English) with Mistral Medium\n",
    "\n",
    "chat_response = client.chat.complete(\n",
    "    model = \"mistral-medium-latest\",\n",
    "    messages=[\n",
    "        {\n",
    "            \"role\": \"system\",\n",
    "            \"content\": \"Translate to Shona and English : Jina langu ni Aisha. Mimi ni mwanafunzi wa Chuo Kikuu. Natoka katika mji wa Mombasa. Ninaishi na familia yangu. Ninapenda kusoma vitabu na kucheza mpira wa kikapu. Rafiki yangu wa karibu anaitwa David. Yeye ni mchezaji wa mpira wa miguu. Tunafurahi sana tunapokuwa pamoja.\",\n",
    "        },\n",
    "    ]\n",
    ")\n",
    "\n",
    "print(chat_response.choices[0].message.content)"
   ]
  },
  {
   "cell_type": "code",
   "execution_count": 6,
   "id": "2d0a1cfb",
   "metadata": {},
   "outputs": [
    {
     "name": "stdout",
     "output_type": "stream",
     "text": [
      "Here’s your translation in **English** and **Swahili**:\n",
      "\n",
      "---\n",
      "### **English:**\n",
      "*\"Hey friend, how are you today? I’m fine. I’m going home, but we’ll meet again soon. Have a great day!\"*\n",
      "\n",
      "---\n",
      "### **Swahili:**\n",
      "*\"Hujambo rafiki, umekuwaje leo? Mimi niko sawa. Ninaenda nyumbani, lakini tutakutana tena hivi karibuni. Uwe na siku njema!\"*\n",
      "\n",
      "---\n",
      "### **Notes:**\n",
      "- **\"Hesi Shamwari\"** → Shona greeting (\"Hey friend\") → Translated as *\"Hujambo rafiki\"* (Swahili) / *\"Hey friend\"* (English).\n",
      "- **\"Wakadii nhasi?\"** → Shona for *\"How are you today?\"* → *\"Umekuwaje leo?\"* (Swahili) / *\"How are you today?\"* (English).\n",
      "- **\"Uve nezuva rakanaka\"** → Shona for *\"Have a good day\"* → *\"Uwe na siku njema\"* (Swahili) / *\"Have a great day\"* (English).\n"
     ]
    }
   ],
   "source": [
    "# Test 4.1: Hesi Shamwari, wakadii nhasi? Ini ndiripo zvangu. Ndirikuenda kumba, asi tichasanganazve mangwanya. \n",
    "# Uve nezuva rakanaka!  \n",
    "# (Translate to English and Swahili) with Mistral Medium\n",
    "\n",
    "chat_response = client.chat.complete(\n",
    "    model = \"mistral-large-latest\",\n",
    "    messages=[\n",
    "        {\n",
    "            \"role\": \"system\",\n",
    "            \"content\": \"Translate to English and Swahili : Hesi Shamwari, wakadii nhasi? Ini ndiripo zvangu. Ndirikuenda kumba, asi tichasanganazve mangwanya. Uve nezuva rakanaka!\",\n",
    "        },\n",
    "    ]\n",
    ")\n",
    "\n",
    "print(chat_response.choices[0].message.content)"
   ]
  },
  {
   "cell_type": "code",
   "execution_count": 9,
   "id": "d29617ef",
   "metadata": {},
   "outputs": [],
   "source": [
    "# Test 5 : Analysing an image - Blocks on floor\n",
    "\n",
    "messages = [\n",
    "    {\n",
    "        \"role\": \"user\",\n",
    "        \"content\": [\n",
    "            {\"type\": \"text\", \"text\": \"How many yellow containers are in this image?\"},\n",
    "            {\"type\": \"image_url\", \"image_url\": \"https://private-user-images.githubusercontent.com/228657294/486017255-28ecb86d-fcfb-4cdd-ba08-646b6260c24c.png?jwt=eyJ0eXAiOiJKV1QiLCJhbGciOiJIUzI1NiJ9.eyJpc3MiOiJnaXRodWIuY29tIiwiYXVkIjoicmF3LmdpdGh1YnVzZXJjb250ZW50LmNvbSIsImtleSI6ImtleTUiLCJleHAiOjE3NTczMzEwMTEsIm5iZiI6MTc1NzMzMDcxMSwicGF0aCI6Ii8yMjg2NTcyOTQvNDg2MDE3MjU1LTI4ZWNiODZkLWZjZmItNGNkZC1iYTA4LTY0NmI2MjYwYzI0Yy5wbmc_WC1BbXotQWxnb3JpdGhtPUFXUzQtSE1BQy1TSEEyNTYmWC1BbXotQ3JlZGVudGlhbD1BS0lBVkNPRFlMU0E1M1BRSzRaQSUyRjIwMjUwOTA4JTJGdXMtZWFzdC0xJTJGczMlMkZhd3M0X3JlcXVlc3QmWC1BbXotRGF0ZT0yMDI1MDkwOFQxMTI1MTFaJlgtQW16LUV4cGlyZXM9MzAwJlgtQW16LVNpZ25hdHVyZT04ODkyMjM2ZGI1ZDZmNTJmMjZiYWE2MzE4ZTk5NDMxYzU4YjVhMzE5NDE1N2M3MDk0ODMzMDNlNTc4ZmU2NmRkJlgtQW16LVNpZ25lZEhlYWRlcnM9aG9zdCJ9.OTDyc-HfvcWFNnOBuqgoJnXiZfxE_hTwkXguAvUxvuk\"}\n",
    "        ]\n",
    "    }\n",
    "]\n"
   ]
  },
  {
   "cell_type": "code",
   "execution_count": 10,
   "id": "c0a60578",
   "metadata": {},
   "outputs": [
    {
     "name": "stdout",
     "output_type": "stream",
     "text": [
      "In the image, there are three yellow containers visible. Here's the breakdown:\n",
      "\n",
      "- One yellow container is located near the child's foot.\n",
      "- Two yellow containers are located towards the bottom of the image.\n"
     ]
    }
   ],
   "source": [
    "# Test 5.1 : Analysing an image with Mistral Medium\n",
    "\n",
    "chat_response = client.chat.complete(\n",
    "    model = \"mistral-medium-latest\",\n",
    "    messages=messages\n",
    ")\n",
    "\n",
    "# Print the content of the response\n",
    "print(chat_response.choices[0].message.content)"
   ]
  },
  {
   "cell_type": "code",
   "execution_count": 11,
   "id": "f7e2625d",
   "metadata": {},
   "outputs": [],
   "source": [
    "# Test 6 : Analysing an image - Car with license plate\n",
    "\n",
    "messages = [\n",
    "    {\n",
    "        \"role\": \"user\",\n",
    "        \"content\": [\n",
    "            {\"type\": \"text\", \"text\": \"Describe the attached image?\"},\n",
    "            {\"type\": \"image_url\", \"image_url\":\"https://private-user-images.githubusercontent.com/228657294/486018168-be0a6708-03e5-4260-98ec-86cfcae6c6be.png?jwt=eyJ0eXAiOiJKV1QiLCJhbGciOiJIUzI1NiJ9.eyJpc3MiOiJnaXRodWIuY29tIiwiYXVkIjoicmF3LmdpdGh1YnVzZXJjb250ZW50LmNvbSIsImtleSI6ImtleTUiLCJleHAiOjE3NTczMzEwNjQsIm5iZiI6MTc1NzMzMDc2NCwicGF0aCI6Ii8yMjg2NTcyOTQvNDg2MDE4MTY4LWJlMGE2NzA4LTAzZTUtNDI2MC05OGVjLTg2Y2ZjYWU2YzZiZS5wbmc_WC1BbXotQWxnb3JpdGhtPUFXUzQtSE1BQy1TSEEyNTYmWC1BbXotQ3JlZGVudGlhbD1BS0lBVkNPRFlMU0E1M1BRSzRaQSUyRjIwMjUwOTA4JTJGdXMtZWFzdC0xJTJGczMlMkZhd3M0X3JlcXVlc3QmWC1BbXotRGF0ZT0yMDI1MDkwOFQxMTI2MDRaJlgtQW16LUV4cGlyZXM9MzAwJlgtQW16LVNpZ25hdHVyZT1lNzkyMmJlZDhlYmE5ZTc3NzkzYWI4NjA0YTI1Y2MyOGYxOWI4MDgyMWVkMDFhNzE5ZTEyMjA3ZWU0NmI4ZjE3JlgtQW16LVNpZ25lZEhlYWRlcnM9aG9zdCJ9.URjttOj6krObOFf29st2Qb4jfgbV6K6ea9UCXMDNTGI\"}\n",
    "        ]\n",
    "    }\n",
    "]"
   ]
  },
  {
   "cell_type": "code",
   "execution_count": 12,
   "id": "63956486",
   "metadata": {},
   "outputs": [
    {
     "name": "stdout",
     "output_type": "stream",
     "text": [
      "The image shows a person attaching a license plate to the front of a vehicle. The license plate reads \"NYC-1898\" and has \"NEW YORK\" written at the top. The person is holding the plate in place, likely preparing to secure it with screws or another fastening method. The vehicle appears to be a modern car, and the scene is likely taking place outdoors, given the natural lighting. The person is wearing a blue garment, possibly a uniform or work clothes.\n"
     ]
    }
   ],
   "source": [
    "# Test 6.1 : Analysing an image with Mistral Medium\n",
    "\n",
    "chat_response = client.chat.complete(\n",
    "    model = \"mistral-medium-latest\",\n",
    "    messages=messages\n",
    ")\n",
    "\n",
    "# Print the content of the response\n",
    "print(chat_response.choices[0].message.content)"
   ]
  },
  {
   "cell_type": "code",
   "execution_count": 13,
   "id": "87f1beb7",
   "metadata": {},
   "outputs": [],
   "source": [
    "# Test 7,8,9: Document desciption\n",
    "\n",
    "# local document, upload and retrieval\n",
    "uploaded_pdf = client.files.upload(\n",
    "    file={\n",
    "        \"file_name\": \"ZTA Email Migration.pdf\",\n",
    "        \"content\": open(\"ZTA Email Migration.pdf\", \"rb\"),\n",
    "        },\n",
    "       purpose=\"ocr\"\n",
    "    )\n",
    "signed_url = client.files.get_signed_url(file_id=uploaded_pdf.id)\n"
   ]
  },
  {
   "cell_type": "code",
   "execution_count": 14,
   "id": "8051553a",
   "metadata": {},
   "outputs": [],
   "source": [
    "# Test 7: Document description query\n",
    "\n",
    "messages = [\n",
    "    {\n",
    "        \"role\": \"user\",\n",
    "        \"content\": [\n",
    "            {\"type\": \"text\", \"text\": \"May you describe the pdf document that was shared ?\"},\n",
    "            {\"type\": \"document_url\", \"document_url\": signed_url.url}\n",
    "        ]\n",
    "    }\n",
    "]"
   ]
  },
  {
   "cell_type": "code",
   "execution_count": 15,
   "id": "b2950196",
   "metadata": {},
   "outputs": [
    {
     "name": "stdout",
     "output_type": "stream",
     "text": [
      "The document is a proposal from **Liquid Intelligent Technologies** for an **Email Migration project** prepared for **ZTA (Zimbabwe Tourism Authority)** in **March 2023**. Here is a detailed summary of the document:\n",
      "\n",
      "### 1. Introduction to Liquid Intelligent Technologies\n",
      "- **Overview**: Liquid Intelligent Technologies is a leading communications solutions provider across 13 countries in Eastern, Central, and Southern Africa.\n",
      "- **Services**: They provide high-speed, reliable connectivity, hosting, co-location, and digital services.\n",
      "- **Infrastructure**: They have built Africa's largest independent fiber network, spanning over 100,000 km, and operate state-of-the-art data centers in Johannesburg, Cape Town, Nairobi, Harare, and Kigali.\n",
      "- **Cloud Services**: They offer Microsoft Office 365 and Microsoft Azure services.\n",
      "\n",
      "### 2. Solution Overview\n",
      "- **Objective**: Migrate ZTA's email services from Dandemutande to Microsoft 365.\n",
      "- **Scope**: 130 users need migration.\n",
      "- **Phases**:\n",
      "  - **Phase 1: Data Compilation**: ZTA needs to provide lists of users, distribution groups, and shared mailboxes. Data cleanup is required.\n",
      "  - **Phase 2: Tenant Preparation and MX Pointing**: Point domain MX records to Microsoft, import users to the new tenant, and assign licenses.\n",
      "  - **Phase 3: Solution Implementation**: Includes pointing domain MX records to Microsoft, migrating emails, and ensuring data sync.\n",
      "  - **Phase 4: Service Monitoring and Sign-off**: Monitor email flow and data sync for 48 hours, test workflows, and get stakeholder confirmation before project sign-off.\n",
      "\n",
      "### 3. Solution References\n",
      "- Liquid Intelligent Technologies has provided similar solutions for organizations like Econet, NMB Bank, Steward Bank, Zimpapers, ZBC, IDBZ, and ZHI.\n",
      "\n",
      "### 4. Implementation and Support Team\n",
      "- **Maidei Angela Muchena**: Cloud Solutions Architect with multiple Microsoft certifications.\n",
      "- **Nyasha Hazel Mapfumo**: Cloud Delivery Engineer with Microsoft certifications.\n",
      "- **Nokuthula Sayi**: Cloud Delivery Engineer with Microsoft and Cybersecurity certifications.\n",
      "- **Grace Chirwa**: Cloud Delivery Engineer with Microsoft certifications.\n",
      "\n",
      "### 5. Terms and Conditions\n",
      "- **Pricing**: Exclusive of VAT, valid for 30 days, in ZWL currency, with final exchange rates agreed at project execution.\n",
      "- **Payment Terms**: 30 days from the date of invoice, with invoices raised monthly in arrears.\n",
      "- **Assumptions and Dependencies**: ZTA is responsible for end-user device configuration, network connectivity, and resource availability.\n",
      "- **Risks**: Cost adjustments may be needed if assumptions/dependencies are not met.\n",
      "- **Exclusions**: Hardware, software, digital certificates, additional remediation work, travel, and accommodation costs outside Harare, and end-user device configuration/troubleshooting are not included.\n",
      "\n",
      "### 6. Acceptance and Approval\n",
      "- The proposal requires signatures from both ZTA and Liquid Intelligent Technologies to be accepted.\n",
      "\n",
      "### Visuals and Branding\n",
      "- The document includes branding elements of Liquid Intelligent Technologies, such as logos and images depicting their capabilities and achievements.\n",
      "- The timeline graphic highlights key milestones from 2004 to 2021, showcasing the company's growth and expansion.\n",
      "- The capabilities section outlines their expertise in Unified Communications, Managed Services, Connectivity, Cyber Security, Cloud, and Co-location.\n",
      "\n",
      "### Conclusion\n",
      "The proposal is comprehensive, detailing the migration process, the team involved, and the terms and conditions, aiming to ensure a smooth transition of ZTA's email services to Microsoft 365.\n"
     ]
    }
   ],
   "source": [
    "# Test 7.1 : Analysing an doc with Mistral Medium\n",
    "\n",
    "chat_response = client.chat.complete(\n",
    "    model = \"mistral-medium-latest\",\n",
    "    messages=messages\n",
    ")\n",
    "\n",
    "# Print the content of the response\n",
    "print(chat_response.choices[0].message.content)"
   ]
  },
  {
   "cell_type": "code",
   "execution_count": 16,
   "id": "215f0782",
   "metadata": {},
   "outputs": [],
   "source": [
    "# Test 8: Document information query\n",
    "\n",
    "messages = [\n",
    "    {\n",
    "        \"role\": \"user\",\n",
    "        \"content\": [\n",
    "            {\"type\": \"text\", \"text\": \"May you list the implantation team on the pdf document.  ?\"},\n",
    "            {\"type\": \"document_url\", \"document_url\": signed_url.url}\n",
    "        ]\n",
    "    }\n",
    "]"
   ]
  },
  {
   "cell_type": "code",
   "execution_count": 17,
   "id": "29a404ae",
   "metadata": {},
   "outputs": [
    {
     "name": "stdout",
     "output_type": "stream",
     "text": [
      "The implementation and support team listed in the document is as follows:\n",
      "\n",
      "1. **Maidei Angela Muchena** (Cloud Solutions Architect)\n",
      "   - Diploma in Project Management - Alison Online Academy\n",
      "   - Microsoft 365 Certified: Teams Administrator Associate\n",
      "   - Microsoft 365 Certified Security Administrator Associate\n",
      "   - Microsoft Certified Azure Solutions Architect Expert\n",
      "   - Microsoft Certified Solutions Expert: Productivity\n",
      "\n",
      "2. **Nyasha Hazel Mapfumo** (Cloud Delivery Engineer)\n",
      "   - Microsoft Certified Systems Administrator: Data Engineering with Azure\n",
      "   - Microsoft Certified Azure Administrator Associate\n",
      "   - Microsoft Certified Solutions Associate: Office 365\n",
      "\n",
      "3. **Nokuthula Sayi** (Cloud Delivery Engineer)\n",
      "   - Microsoft 365 Certified Security Administrator Associate\n",
      "   - Microsoft Certified Azure Administrator Associate\n",
      "   - Cybersecurity Foundation Professional Certificate\n",
      "\n",
      "4. **Grace Chirwa** (Cloud Delivery Engineer)\n",
      "   - Microsoft Certified Solutions Associate: Office 365\n",
      "   - Microsoft 365 Certified: Teams Administrator Associate\n",
      "   - Microsoft Certified Azure Administrator Associate\n"
     ]
    }
   ],
   "source": [
    "# Test 8.1 : Document information query with Mistral Medium\n",
    "\n",
    "chat_response = client.chat.complete(\n",
    "    model = \"mistral-medium-latest\",\n",
    "    messages=messages\n",
    ")\n",
    "\n",
    "# Print the content of the response\n",
    "print(chat_response.choices[0].message.content)"
   ]
  },
  {
   "cell_type": "code",
   "execution_count": 18,
   "id": "acfd6b84",
   "metadata": {},
   "outputs": [],
   "source": [
    "# Test 9: Document information query for image\n",
    "\n",
    "messages = [\n",
    "    {\n",
    "        \"role\": \"user\",\n",
    "        \"content\": [\n",
    "            {\"type\": \"text\", \"text\": \"Can you describe the image on page 1\"},\n",
    "            {\"type\": \"document_url\", \"document_url\": signed_url.url}\n",
    "        ]\n",
    "    }\n",
    "]"
   ]
  },
  {
   "cell_type": "code",
   "execution_count": 19,
   "id": "f08f8a19",
   "metadata": {},
   "outputs": [
    {
     "name": "stdout",
     "output_type": "stream",
     "text": [
      "The image on page १ of the document is the logo of Liquid Intelligent Technologies. The logo consists of the word \"LIQUID\" in blue uppercase letters, with the letter \"Q\" stylized to include a pink curved line through it. Below the word \"LIQUID,\" the words \"INTELLIGENT TECHNOLOGIES\" are written in smaller blue uppercase letters.\n"
     ]
    }
   ],
   "source": [
    "# Test 9.1 : Document information query for image with Mistral Medium\n",
    "\n",
    "chat_response = client.chat.complete(\n",
    "    model = \"mistral-medium-latest\",\n",
    "    messages=messages\n",
    ")\n",
    "\n",
    "# Print the content of the response\n",
    "print(chat_response.choices[0].message.content)"
   ]
  },
  {
   "cell_type": "code",
   "execution_count": 20,
   "id": "fa5dffd1",
   "metadata": {},
   "outputs": [],
   "source": [
    "# Test 10 : Information query from audio\n",
    "\n",
    "messages = [\n",
    "    {\n",
    "        \"role\": \"user\",\n",
    "        \"content\": [\n",
    "             {\n",
    "                \"type\": \"input_audio\",\"input_audio\": \"https://openaiassets.blob.core.windows.net/$web/API/docs/audio/alloy.wav\",\n",
    "             },\n",
    "             {\n",
    "                \"type\": \"text\",\"text\": \"Can you put this audio to speech ?\"\n",
    "            }  \n",
    "        ]\n",
    "    }\n",
    "]"
   ]
  },
  {
   "cell_type": "code",
   "execution_count": 22,
   "id": "27edb948",
   "metadata": {},
   "outputs": [
    {
     "ename": "SDKError",
     "evalue": "API error occurred: Status 400\n{\"object\":\"error\",\"message\":\"Audio input is not enabled for this model\",\"type\":\"invalid_request_invalid_args\",\"param\":null,\"code\":\"3051\"}",
     "output_type": "error",
     "traceback": [
      "\u001b[1;31m---------------------------------------------------------------------------\u001b[0m",
      "\u001b[1;31mSDKError\u001b[0m                                  Traceback (most recent call last)",
      "Cell \u001b[1;32mIn[22], line 3\u001b[0m\n\u001b[0;32m      1\u001b[0m \u001b[38;5;66;03m# Test 10.1 : Audio to speech with Mistral Medium\u001b[39;00m\n\u001b[1;32m----> 3\u001b[0m chat_response \u001b[38;5;241m=\u001b[39m \u001b[43mclient\u001b[49m\u001b[38;5;241;43m.\u001b[39;49m\u001b[43mchat\u001b[49m\u001b[38;5;241;43m.\u001b[39;49m\u001b[43mcomplete\u001b[49m\u001b[43m(\u001b[49m\n\u001b[0;32m      4\u001b[0m \u001b[43m    \u001b[49m\u001b[43mmodel\u001b[49m\u001b[43m \u001b[49m\u001b[38;5;241;43m=\u001b[39;49m\u001b[43m \u001b[49m\u001b[38;5;124;43m\"\u001b[39;49m\u001b[38;5;124;43mmistral-medium-latest\u001b[39;49m\u001b[38;5;124;43m\"\u001b[39;49m\u001b[43m,\u001b[49m\n\u001b[0;32m      5\u001b[0m \u001b[43m    \u001b[49m\u001b[43mmessages\u001b[49m\u001b[38;5;241;43m=\u001b[39;49m\u001b[43mmessages\u001b[49m\n\u001b[0;32m      6\u001b[0m \u001b[43m)\u001b[49m\n\u001b[0;32m      8\u001b[0m \u001b[38;5;66;03m# Print the content of the response\u001b[39;00m\n\u001b[0;32m      9\u001b[0m \u001b[38;5;28mprint\u001b[39m(chat_response\u001b[38;5;241m.\u001b[39mchoices[\u001b[38;5;241m0\u001b[39m]\u001b[38;5;241m.\u001b[39mmessage\u001b[38;5;241m.\u001b[39mcontent)\n",
      "File \u001b[1;32m~\\AppData\\Local\\anaconda3\\lib\\site-packages\\mistralai\\chat.py:247\u001b[0m, in \u001b[0;36mChat.complete\u001b[1;34m(self, model, messages, temperature, top_p, max_tokens, stream, stop, random_seed, response_format, tools, tool_choice, presence_penalty, frequency_penalty, n, prediction, parallel_tool_calls, prompt_mode, safe_prompt, retries, server_url, timeout_ms, http_headers)\u001b[0m\n\u001b[0;32m    245\u001b[0m \u001b[38;5;28;01mif\u001b[39;00m utils\u001b[38;5;241m.\u001b[39mmatch_response(http_res, \u001b[38;5;124m\"\u001b[39m\u001b[38;5;124m4XX\u001b[39m\u001b[38;5;124m\"\u001b[39m, \u001b[38;5;124m\"\u001b[39m\u001b[38;5;124m*\u001b[39m\u001b[38;5;124m\"\u001b[39m):\n\u001b[0;32m    246\u001b[0m     http_res_text \u001b[38;5;241m=\u001b[39m utils\u001b[38;5;241m.\u001b[39mstream_to_text(http_res)\n\u001b[1;32m--> 247\u001b[0m     \u001b[38;5;28;01mraise\u001b[39;00m models\u001b[38;5;241m.\u001b[39mSDKError(\n\u001b[0;32m    248\u001b[0m         \u001b[38;5;124m\"\u001b[39m\u001b[38;5;124mAPI error occurred\u001b[39m\u001b[38;5;124m\"\u001b[39m, http_res\u001b[38;5;241m.\u001b[39mstatus_code, http_res_text, http_res\n\u001b[0;32m    249\u001b[0m     )\n\u001b[0;32m    250\u001b[0m \u001b[38;5;28;01mif\u001b[39;00m utils\u001b[38;5;241m.\u001b[39mmatch_response(http_res, \u001b[38;5;124m\"\u001b[39m\u001b[38;5;124m5XX\u001b[39m\u001b[38;5;124m\"\u001b[39m, \u001b[38;5;124m\"\u001b[39m\u001b[38;5;124m*\u001b[39m\u001b[38;5;124m\"\u001b[39m):\n\u001b[0;32m    251\u001b[0m     http_res_text \u001b[38;5;241m=\u001b[39m utils\u001b[38;5;241m.\u001b[39mstream_to_text(http_res)\n",
      "\u001b[1;31mSDKError\u001b[0m: API error occurred: Status 400\n{\"object\":\"error\",\"message\":\"Audio input is not enabled for this model\",\"type\":\"invalid_request_invalid_args\",\"param\":null,\"code\":\"3051\"}"
     ]
    }
   ],
   "source": [
    "# Test 10.1 : Audio to speech with Mistral Medium\n",
    "\n",
    "chat_response = client.chat.complete(\n",
    "    model = \"mistral-medium-latest\",\n",
    "    messages=messages\n",
    ")\n",
    "\n",
    "# Print the content of the response\n",
    "print(chat_response.choices[0].message.content)"
   ]
  },
  {
   "cell_type": "code",
   "execution_count": 23,
   "id": "4ceecc44",
   "metadata": {},
   "outputs": [
    {
     "name": "stdout",
     "output_type": "stream",
     "text": [
      "The sun rises in the east and sets in the west. This simple fact has been observed by humans for thousands of years.\n"
     ]
    }
   ],
   "source": [
    "# Test 10.1 : Audio to speech with Voxtral Small\n",
    "\n",
    "chat_response = client.chat.complete(\n",
    "    model = \"voxtral-small-latest\",\n",
    "    messages=messages\n",
    ")\n",
    "\n",
    "# Print the content of the response\n",
    "print(chat_response.choices[0].message.content)"
   ]
  },
  {
   "cell_type": "code",
   "execution_count": 24,
   "id": "e6888ef3",
   "metadata": {},
   "outputs": [],
   "source": [
    "# Test 11 : Translate query from audio\n",
    "\n",
    "messages = [\n",
    "    {\n",
    "        \"role\": \"user\",\n",
    "        \"content\": [\n",
    "             {\n",
    "                \"type\": \"input_audio\",\"input_audio\": \"https://openaiassets.blob.core.windows.net/$web/API/docs/audio/alloy.wav\",\n",
    "             },\n",
    "             {\n",
    "                \"type\": \"text\",\"text\": \"Translate the audio to Shona and Swahili. Output should be text.\"\n",
    "            }  \n",
    "        ]\n",
    "    }\n",
    "]"
   ]
  },
  {
   "cell_type": "code",
   "execution_count": 25,
   "id": "d6c9eb66",
   "metadata": {},
   "outputs": [
    {
     "name": "stdout",
     "output_type": "stream",
     "text": [
      "Moto inobwa mberi kwenye mashariki na inapanda kwenye magharibi. Ufahamu huu wa moto umeonekana na watu kwa miaka mingi.\n"
     ]
    }
   ],
   "source": [
    "# Test 11.1 : Translate query from audio with Voxtral Small\n",
    "\n",
    "chat_response = client.chat.complete(\n",
    "    model = \"voxtral-small-latest\",\n",
    "    messages=messages\n",
    ")\n",
    "\n",
    "# Print the content of the response\n",
    "print(chat_response.choices[0].message.content)"
   ]
  },
  {
   "cell_type": "code",
   "execution_count": 26,
   "id": "07bb2c6a",
   "metadata": {},
   "outputs": [],
   "source": [
    "# Test 12 : Translate query from audio, with audio output\n",
    "\n",
    "messages = [\n",
    "    {\n",
    "        \"role\": \"user\",\n",
    "        \"content\": [\n",
    "             {\n",
    "                \"type\": \"input_audio\",\"input_audio\": \"https://openaiassets.blob.core.windows.net/$web/API/docs/audio/alloy.wav\",\n",
    "             },\n",
    "             {\n",
    "                \"type\": \"text\",\"text\": \"Translate the audio to Shona and Swahili. Output should be audio.\"\n",
    "            }  \n",
    "        ]\n",
    "    }\n",
    "]"
   ]
  },
  {
   "cell_type": "code",
   "execution_count": 28,
   "id": "b3ae7511",
   "metadata": {},
   "outputs": [
    {
     "name": "stdout",
     "output_type": "stream",
     "text": [
      "Moto inoruka kwenye mashariki na inapanda kwenye magharibi. Ujumbe huu wa kawaida umeonekana na watu kwa miaka elfu.\n"
     ]
    }
   ],
   "source": [
    "# Test 12.1 : Translate query from audio, with audio output with Voxtral Small\n",
    "\n",
    "chat_response = client.chat.complete(\n",
    "    model = \"voxtral-small-latest\",\n",
    "    messages=messages\n",
    ")\n",
    "\n",
    "# Print the content of the response\n",
    "print(chat_response.choices[0].message.content)"
   ]
  },
  {
   "cell_type": "code",
   "execution_count": 29,
   "id": "a8c1567f",
   "metadata": {},
   "outputs": [],
   "source": [
    "# Note : all Mistral Models are currently unable to produce an audio output."
   ]
  },
  {
   "cell_type": "code",
   "execution_count": 30,
   "id": "9e273bcf",
   "metadata": {},
   "outputs": [],
   "source": [
    "# Note :for audio processing , Voxtral Small is the model that works. Mistral Medium is unable to process audio."
   ]
  },
  {
   "cell_type": "code",
   "execution_count": null,
   "id": "2f545f0b",
   "metadata": {},
   "outputs": [],
   "source": []
  }
 ],
 "metadata": {
  "kernelspec": {
   "display_name": "Python 3 (ipykernel)",
   "language": "python",
   "name": "python3"
  },
  "language_info": {
   "codemirror_mode": {
    "name": "ipython",
    "version": 3
   },
   "file_extension": ".py",
   "mimetype": "text/x-python",
   "name": "python",
   "nbconvert_exporter": "python",
   "pygments_lexer": "ipython3",
   "version": "3.10.9"
  }
 },
 "nbformat": 4,
 "nbformat_minor": 5
}

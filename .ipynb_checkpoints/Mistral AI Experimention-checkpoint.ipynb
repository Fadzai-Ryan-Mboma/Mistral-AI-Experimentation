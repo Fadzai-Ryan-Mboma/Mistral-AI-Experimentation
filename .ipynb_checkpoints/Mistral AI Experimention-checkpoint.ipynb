{
 "cells": [
  {
   "cell_type": "code",
   "execution_count": null,
   "id": "6307454e",
   "metadata": {},
   "outputs": [],
   "source": [
    "pip install mistralai"
   ]
  },
  {
   "cell_type": "code",
   "execution_count": null,
   "id": "a2775108",
   "metadata": {},
   "outputs": [],
   "source": [
    "Test 1: This is a fine chill morning (Translate to Shona and Swahili)"
   ]
  },
  {
   "cell_type": "code",
   "execution_count": 64,
   "id": "3d4919d3",
   "metadata": {},
   "outputs": [],
   "source": [
    "import os\n",
    "import httpx\n",
    "from mistralai import Mistral\n",
    "\n",
    "client_httpx = httpx.Client(verify=False)\n",
    "\n",
    "api_key = \"76yvXhlBM63qCdkGKh5SCgTmT1QyMHCV\"\n",
    "\n",
    "client = Mistral(api_key=api_key, client=client_httpx)"
   ]
  },
  {
   "cell_type": "code",
   "execution_count": 65,
   "id": "96f56914",
   "metadata": {},
   "outputs": [
    {
     "name": "stdout",
     "output_type": "stream",
     "text": [
      "**Shona (ChiShona):** \"Zvinoita mhuri yemukadzi.\"\n",
      "\n",
      "**Swahili (Kiswahili):** \"Hizi ni asubuhi bora ya kucheza.\"\n"
     ]
    }
   ],
   "source": [
    "# Test 1.1.1: This is a fine chill morning (Translate to Shona and Swahili) with Mistral Medium as user\n",
    "\n",
    "chat_response = client.chat.complete(\n",
    "    model = \"mistral-tiny-latest\",\n",
    "    messages=[\n",
    "        {\n",
    "            \"role\": \"user\",\n",
    "            \"content\": \"Translate to Shona and Swahili : This is a fine chill morning\",\n",
    "        },\n",
    "    ]\n",
    ")\n",
    "\n",
    "print(chat_response.choices[0].message.content)"
   ]
  },
  {
   "cell_type": "code",
   "execution_count": 66,
   "id": "89afdc56",
   "metadata": {},
   "outputs": [
    {
     "name": "stdout",
     "output_type": "stream",
     "text": [
      "Here are the translations of **\"This is a fine chill morning\"** in **Shona** and **Swahili**:\n",
      "\n",
      "### **Shona:**\n",
      "**\"Iyi zuva ndiriyo yakanaka, yekufema.\"**\n",
      "*(Alternative: \"Iyi mangwanani ndiyo yakanaka, yekufema.\")*\n",
      "\n",
      "### **Swahili:**\n",
      "**\"Asubuhi hii ni baridi na nzuri.\"**\n",
      "*(Alternative: \"Leo asubuhi ni baridi na nzuri.\")*\n",
      "\n",
      "Would you like any adjustments for tone or context?\n"
     ]
    }
   ],
   "source": [
    "# Test 1.1.2: This is a fine chill morning (Translate to Shona and Swahili) with Mistral Medium as system\n",
    "\n",
    "chat_response = client.chat.complete(\n",
    "    model = \"mistral-large-latest\",\n",
    "    messages=[\n",
    "        {\n",
    "            \"role\": \"system\",\n",
    "            \"content\": \"Translate to Shona and Swahili : This is a fine chill morning\",\n",
    "        },\n",
    "    ]\n",
    ")\n",
    "\n",
    "print(chat_response.choices[0].message.content)"
   ]
  },
  {
   "cell_type": "code",
   "execution_count": 77,
   "id": "909d507a",
   "metadata": {},
   "outputs": [
    {
     "name": "stdout",
     "output_type": "stream",
     "text": [
      "Here are the translations of \"This is a fine chill morning\" into Shona and Swahili:\n",
      "\n",
      "- **Shona**: \"Iri mubvunzo wemusha wemakuru.\"\n",
      "- **Swahili**: \"Hii ni asubuhi ya baridi ya kutosha.\"\n",
      "\n",
      "These translations convey the sense of a pleasant, cool morning in both languages.\n"
     ]
    }
   ],
   "source": [
    "# Test 1.2: This is a fine chill morning (Translate to Shona and Swahili) with Mistral Small\n",
    "\n",
    "chat_response = client.chat.complete(\n",
    "    model = \"mistral-small-latest\",\n",
    "    messages=[\n",
    "        {\n",
    "            \"role\": \"system\",\n",
    "            \"content\": \"Translate to Shona and Swahili : This is a fine chill morning\",\n",
    "        },\n",
    "    ]\n",
    ")\n",
    "\n",
    "print(chat_response.choices[0].message.content)"
   ]
  },
  {
   "cell_type": "code",
   "execution_count": 68,
   "id": "9b1b6300",
   "metadata": {},
   "outputs": [
    {
     "name": "stdout",
     "output_type": "stream",
     "text": [
      "Here are the translations of your sentence into **Shona** and **Swahili**:\n",
      "\n",
      "### **Shona:**\n",
      "**\"Ndine simba here kundiudza? Ndine zvinoita zvakaipa zvemutauro, asi handizivi kuti ndaende kupi.\"**\n",
      "\n",
      "*(Alternative, more direct version:)*\n",
      "**\"Ndine simba here kundiudza? Ndine zvinoita zvakaipa zvemutauro, asi handizivi kuti ndaende kupi kuti ndape zvirongwa.\"**\n",
      "\n",
      "---\n",
      "\n",
      "### **Swahili:**\n",
      "**\"Tafadhali, naomba msaada wako. Nahitaji msaada wa matibabu na sijui ni kweli ninaenda wapi.\"**\n",
      "\n",
      "*(Alternative, more natural version:)*\n",
      "**\"Tafadhali, naomba msaada. Nahitaji matibabu, lakini sijui ni wapi ninaenda.\"**\n",
      "\n",
      "---\n",
      "### **Notes:**\n",
      "- In **Shona**, *\"zvemutauro\"* (medical) can also be replaced with *\"zvemagariro\"* (treatment).\n",
      "- In **Swahili**, *\"matibabu\"* (medical treatment) is commonly used, but *\"dawa\"* (medicine) can also be added if needed.\n",
      "\n",
      "Would you like any adjustments for a specific dialect or context?\n"
     ]
    }
   ],
   "source": [
    "# Test 2.1: May you please help me. I need medical help and l am not sure of where to go \n",
    "# (Translate to Shona and Swahili) with Mistral Medium\n",
    "\n",
    "chat_response = client.chat.complete(\n",
    "    model = \"mistral-large-latest\",\n",
    "    messages=[\n",
    "        {\n",
    "            \"role\": \"system\",\n",
    "            \"content\": \"Translate to Shona and Swahili : May you please help me. I need medical help and l am not sure of where to go\",\n",
    "        },\n",
    "    ]\n",
    ")\n",
    "\n",
    "print(chat_response.choices[0].message.content)"
   ]
  },
  {
   "cell_type": "code",
   "execution_count": 69,
   "id": "b239434c",
   "metadata": {},
   "outputs": [
    {
     "name": "stdout",
     "output_type": "stream",
     "text": [
      "**Shona:**\n",
      "*Ungadzidze here. Ndine nzira yekudzidzwa nemedikal, asi handina kuziva kuti ndakasvika pano.*\n",
      "\n",
      "**Swahili:**\n",
      "*Tafadhali, unasaidie. Ninahitaji msaada wa afya, lakini sijui kuhujui nini kufanya.*\n",
      "\n",
      "*(Note: The Shona and Swahili translations convey the same meaning as the original English sentence, expressing a request for help and uncertainty about where to seek medical assistance.)*\n"
     ]
    }
   ],
   "source": [
    "# Test 2.2: May you please help me. I need medical help and l am not sure of where to go \n",
    "# (Translate to Shona and Swahili) with Mistral Small\n",
    "\n",
    "chat_response = client.chat.complete(\n",
    "    model = \"mistral-small-latest\",\n",
    "    messages=[\n",
    "        {\n",
    "            \"role\": \"system\",\n",
    "            \"content\": \"Translate to Shona and Swahili : May you please help me. I need medical help and l am not sure of where to go\",\n",
    "        },\n",
    "    ]\n",
    ")\n",
    "\n",
    "print(chat_response.choices[0].message.content)"
   ]
  },
  {
   "cell_type": "code",
   "execution_count": 70,
   "id": "3b3f4e6e",
   "metadata": {},
   "outputs": [
    {
     "name": "stdout",
     "output_type": "stream",
     "text": [
      "Here is the translation in **Shona** and **English**:\n",
      "\n",
      "### **Shona:**\n",
      "**Zita rangu ndiri Aisha. Ini ndiri mwanafunzi wechikoro chekudzidza. Ndakabva kumuzinda waMombasa. Ndiri kuzotambira na familia yangu. Ndichada kuziverenga mabhuku nekudzicheza bhazikibho. Mufambi wangu anoziva kare anoziva David. Yeye ndiye mchezaji webhola. Tinofara zvakanaka tinogara pamwechete.**\n",
      "\n",
      "### **English:**\n",
      "**My name is Aisha. I am a university student. I come from the city of Mombasa. I live with my family. I enjoy reading books and playing basketball. My close friend is named David. He is a football player. We have a lot of fun when we are together.**\n"
     ]
    }
   ],
   "source": [
    "# Test 3.1: Jina langu ni Aisha. Mimi ni mwanafunzi wa Chuo Kikuu. Natoka katika mji wa Mombasa. \n",
    "# Ninaishi na familia yangu. Ninapenda kusoma vitabu na kucheza mpira wa kikapu. \n",
    "# Rafiki yangu wa karibu anaitwa David. Yeye ni mchezaji wa mpira wa miguu. \n",
    "# Tunafurahi sana tunapokuwa pamoja.  \n",
    "# (Translate to Shona and English) with Mistral Medium\n",
    "\n",
    "chat_response = client.chat.complete(\n",
    "    model = \"mistral-medium-latest\",\n",
    "    messages=[\n",
    "        {\n",
    "            \"role\": \"system\",\n",
    "            \"content\": \"Translate to Shona and English : Jina langu ni Aisha. Mimi ni mwanafunzi wa Chuo Kikuu. Natoka katika mji wa Mombasa. Ninaishi na familia yangu. Ninapenda kusoma vitabu na kucheza mpira wa kikapu. Rafiki yangu wa karibu anaitwa David. Yeye ni mchezaji wa mpira wa miguu. Tunafurahi sana tunapokuwa pamoja.\",\n",
    "        },\n",
    "    ]\n",
    ")\n",
    "\n",
    "print(chat_response.choices[0].message.content)"
   ]
  },
  {
   "cell_type": "code",
   "execution_count": 71,
   "id": "047c5003",
   "metadata": {},
   "outputs": [
    {
     "name": "stdout",
     "output_type": "stream",
     "text": [
      "Here is the translation of your text into Shona and English:\n",
      "\n",
      "### **Shona:**\n",
      "Ndiani ndinoti Aisha. Ndinomwana wechikoro. Ndakasoka pamwe chete cheku Mombasa. Ndine nenyika nehama yangu. Ndine ndinopenda kushandisa nyorere dzemabhuku nekucheka mpira wekapu. Muri wangu wechikoro aneita David. Iye ndiye mubvunzo we mpira wehuru. Tinofara nemi tichiona tichiona tichiona.\n",
      "\n",
      "### **English:**\n",
      "My name is Aisha. I am a university student. I come from the city of Mombasa. I live with my family. I enjoy reading books and playing basketball. My close friend is called David. He is a football player. We are very happy when we are together.\n"
     ]
    }
   ],
   "source": [
    "# Test 3.2: Jina langu ni Aisha. Mimi ni mwanafunzi wa Chuo Kikuu. Natoka katika mji wa Mombasa. \n",
    "# Ninaishi na familia yangu. Ninapenda kusoma vitabu na kucheza mpira wa kikapu. \n",
    "# Rafiki yangu wa karibu anaitwa David. Yeye ni mchezaji wa mpira wa miguu. \n",
    "# Tunafurahi sana tunapokuwa pamoja.  \n",
    "# (Translate to Shona and English) with Mistral Small\n",
    "\n",
    "chat_response = client.chat.complete(\n",
    "    model = \"mistral-small-latest\",\n",
    "    messages=[\n",
    "        {\n",
    "            \"role\": \"system\",\n",
    "            \"content\": \"Translate to Shona and English : Jina langu ni Aisha. Mimi ni mwanafunzi wa Chuo Kikuu. Natoka katika mji wa Mombasa. Ninaishi na familia yangu. Ninapenda kusoma vitabu na kucheza mpira wa kikapu. Rafiki yangu wa karibu anaitwa David. Yeye ni mchezaji wa mpira wa miguu. Tunafurahi sana tunapokuwa pamoja.\",\n",
    "        },\n",
    "    ]\n",
    ")\n",
    "\n",
    "print(chat_response.choices[0].message.content)"
   ]
  },
  {
   "cell_type": "code",
   "execution_count": 72,
   "id": "df6c8b8a",
   "metadata": {},
   "outputs": [
    {
     "name": "stdout",
     "output_type": "stream",
     "text": [
      "Here’s your translation in **English** and **Swahili**:\n",
      "\n",
      "---\n",
      "### **English:**\n",
      "*\"Hey friend, how are you today? I’m doing well. I’m heading home, but we’ll meet again soon. Have a great day!\"*\n",
      "\n",
      "---\n",
      "### **Swahili:**\n",
      "*\"Hujambo rafiki, habari za leo? Mimi niko vizuri. Ninaenda nyumbani, lakini tutakutana tena hivi karibuni. Ufike ukae siku njema!\"*\n",
      "\n",
      "---\n",
      "### **Notes:**\n",
      "- **\"Hesi Shamwari\"** → A casual Shona greeting (\"Hey friend\").\n",
      "- **\"Wakadii nhasi?\"** → \"How are you today?\" (Swahili: *\"Habari za leo?\"*).\n",
      "- **\"Ndiripo zvangu\"** → \"I’m fine\" (Swahili: *\"Niko vizuri\"*).\n",
      "- **\"Tichasanganazve mangwanya\"** → \"We’ll meet again soon\" (Swahili: *\"Tutakutana tena hivi karibuni\"*).\n",
      "- **\"Uve nezuva rakanaka\"** → \"Have a good day\" (Swahili: *\"Ufike ukae siku njema\"*—literally \"arrive and stay with a good day\").\n"
     ]
    }
   ],
   "source": [
    "# Test 4.1: Hesi Shamwari, wakadii nhasi? Ini ndiripo zvangu. Ndirikuenda kumba, asi tichasanganazve mangwanya. \n",
    "# Uve nezuva rakanaka!  \n",
    "# (Translate to English and Swahili) with Mistral Medium\n",
    "\n",
    "chat_response = client.chat.complete(\n",
    "    model = \"mistral-large-latest\",\n",
    "    messages=[\n",
    "        {\n",
    "            \"role\": \"system\",\n",
    "            \"content\": \"Translate to English and Swahili : Hesi Shamwari, wakadii nhasi? Ini ndiripo zvangu. Ndirikuenda kumba, asi tichasanganazve mangwanya. Uve nezuva rakanaka!\",\n",
    "        },\n",
    "    ]\n",
    ")\n",
    "\n",
    "print(chat_response.choices[0].message.content)"
   ]
  },
  {
   "cell_type": "code",
   "execution_count": 73,
   "id": "5422857a",
   "metadata": {
    "scrolled": true
   },
   "outputs": [
    {
     "name": "stdout",
     "output_type": "stream",
     "text": [
      "**English Translation:**\n",
      "\"Hesi Shamwari, how are you today? I am at my place. I am going home, but let's meet later. Have a nice day!\"\n",
      "\n",
      "**Swahili Translation:**\n",
      "\"Hesi Shamwari, habari yako leo? Nimekwisha kwangu. Ninakwenda nyumbani, lakini tutakutana baadaye. Uwe na mchana mwema!\"\n"
     ]
    }
   ],
   "source": [
    "# Test 4.2: Hesi Shamwari, wakadii nhasi? Ini ndiripo zvangu. Ndirikuenda kumba, asi tichasanganazve mangwanya. \n",
    "# Uve nezuva rakanaka!  \n",
    "# (Translate to English and Swahili) with Mistral Small\n",
    "\n",
    "chat_response = client.chat.complete(\n",
    "    model = \"mistral-small-latest\",\n",
    "    messages=[\n",
    "        {\n",
    "            \"role\": \"system\",\n",
    "            \"content\": \"Translate to English and Swahili : Hesi Shamwari, wakadii nhasi? Ini ndiripo zvangu. Ndirikuenda kumba, asi tichasanganazve mangwanya. Uve nezuva rakanaka!\",\n",
    "        },\n",
    "    ]\n",
    ")\n",
    "\n",
    "print(chat_response.choices[0].message.content)"
   ]
  },
  {
   "cell_type": "code",
   "execution_count": 78,
   "id": "cf75a831",
   "metadata": {},
   "outputs": [],
   "source": [
    "# Test 5 : Analysing an image - Blocks on floor\n",
    "\n",
    "messages = [\n",
    "    {\n",
    "        \"role\": \"user\",\n",
    "        \"content\": [\n",
    "            {\"type\": \"text\", \"text\": \"How many yellow containers are in this image?\"},\n",
    "            {\"type\": \"image_url\", \"image_url\": \"https://private-user-images.githubusercontent.com/228657294/486017255-28ecb86d-fcfb-4cdd-ba08-646b6260c24c.png?jwt=eyJ0eXAiOiJKV1QiLCJhbGciOiJIUzI1NiJ9.eyJpc3MiOiJnaXRodWIuY29tIiwiYXVkIjoicmF3LmdpdGh1YnVzZXJjb250ZW50LmNvbSIsImtleSI6ImtleTUiLCJleHAiOjE3NTcwNjE0MTMsIm5iZiI6MTc1NzA2MTExMywicGF0aCI6Ii8yMjg2NTcyOTQvNDg2MDE3MjU1LTI4ZWNiODZkLWZjZmItNGNkZC1iYTA4LTY0NmI2MjYwYzI0Yy5wbmc_WC1BbXotQWxnb3JpdGhtPUFXUzQtSE1BQy1TSEEyNTYmWC1BbXotQ3JlZGVudGlhbD1BS0lBVkNPRFlMU0E1M1BRSzRaQSUyRjIwMjUwOTA1JTJGdXMtZWFzdC0xJTJGczMlMkZhd3M0X3JlcXVlc3QmWC1BbXotRGF0ZT0yMDI1MDkwNVQwODMxNTNaJlgtQW16LUV4cGlyZXM9MzAwJlgtQW16LVNpZ25hdHVyZT00ZmMwM2RiOTlhNDIwMzVlMWJhY2VlYTY4ZmFkYzBjZjI2M2UwNmMxZjZhZmI0NmU2YzRhZmQxZDA3MjBmZjI4JlgtQW16LVNpZ25lZEhlYWRlcnM9aG9zdCJ9.UWbD40PkCt4MEyePyCsv9om53PPUGFFmqHLtkGDeZHY\"}\n",
    "        ]\n",
    "    }\n",
    "]\n"
   ]
  },
  {
   "cell_type": "code",
   "execution_count": null,
   "id": "9c92c487",
   "metadata": {},
   "outputs": [],
   "source": [
    "# Test 5.1 : Analysing an image with Mistral Medium\n",
    "\n",
    "chat_response = client.chat.complete(\n",
    "    model = \"mistral-medium-latest\",\n",
    "    messages=messages\n",
    ")\n",
    "\n",
    "# Print the content of the response\n",
    "print(chat_response.choices[0].message.content)"
   ]
  },
  {
   "cell_type": "code",
   "execution_count": null,
   "id": "c4d41c1c",
   "metadata": {},
   "outputs": [],
   "source": [
    "# Test 5.2 : Analysing an image with Mistral Small\n",
    "\n",
    "chat_response = client.chat.complete(\n",
    "    model = \"mistral-small-latest\",\n",
    "    messages=messages\n",
    ")\n",
    "\n",
    "# Print the content of the response\n",
    "print(chat_response.choices[0].message.content)"
   ]
  },
  {
   "cell_type": "code",
   "execution_count": null,
   "id": "8477cae7",
   "metadata": {},
   "outputs": [],
   "source": [
    "# Test 5.3 : Analysing an image with Pixtral 12B\n",
    "\n",
    "chat_response = client.chat.complete(\n",
    "    model = \"pixtral-12b-latest\",\n",
    "    messages=messages\n",
    ")\n",
    "\n",
    "# Print the content of the response\n",
    "print(chat_response.choices[0].message.content)"
   ]
  },
  {
   "cell_type": "code",
   "execution_count": null,
   "id": "babc94c7",
   "metadata": {},
   "outputs": [],
   "source": [
    "# Test 5.4 : Analysing an image with Pixtral Large 2411\n",
    "\n",
    "chat_response = client.chat.complete(\n",
    "    model = \"pixtral-large-latest\",\n",
    "    messages=messages\n",
    ")\n",
    "\n",
    "# Print the content of the response\n",
    "print(chat_response.choices[0].message.content)"
   ]
  },
  {
   "cell_type": "code",
   "execution_count": null,
   "id": "3fd9011a",
   "metadata": {},
   "outputs": [],
   "source": [
    "# Test 6 : Analysing an image - Car with license plate\n",
    "\n",
    "messages = [\n",
    "    {\n",
    "        \"role\": \"user\",\n",
    "        \"content\": [\n",
    "            {\"type\": \"text\", \"text\": \"Describe the attached image?\"},\n",
    "            {\"type\": \"image_url\", \"image_url\":\"https://private-user-images.githubusercontent.com/228657294/486018168-be0a6708-03e5-4260-98ec-86cfcae6c6be.png?jwt=eyJ0eXAiOiJKV1QiLCJhbGciOiJIUzI1NiJ9.eyJpc3MiOiJnaXRodWIuY29tIiwiYXVkIjoicmF3LmdpdGh1YnVzZXJjb250ZW50LmNvbSIsImtleSI6ImtleTUiLCJleHAiOjE3NTcwNjE2MTksIm5iZiI6MTc1NzA2MTMxOSwicGF0aCI6Ii8yMjg2NTcyOTQvNDg2MDE4MTY4LWJlMGE2NzA4LTAzZTUtNDI2MC05OGVjLTg2Y2ZjYWU2YzZiZS5wbmc_WC1BbXotQWxnb3JpdGhtPUFXUzQtSE1BQy1TSEEyNTYmWC1BbXotQ3JlZGVudGlhbD1BS0lBVkNPRFlMU0E1M1BRSzRaQSUyRjIwMjUwOTA1JTJGdXMtZWFzdC0xJTJGczMlMkZhd3M0X3JlcXVlc3QmWC1BbXotRGF0ZT0yMDI1MDkwNVQwODM1MTlaJlgtQW16LUV4cGlyZXM9MzAwJlgtQW16LVNpZ25hdHVyZT04NmU2ZmQ1NmU5ZTkzODJkYzAyYmY4YmE4YmRiYTljZTc1YmY0ZTZiOWU3ZmFjNjhkMzA0ZmMxMWE5M2ZiN2ZiJlgtQW16LVNpZ25lZEhlYWRlcnM9aG9zdCJ9.aBF4T9O94Cng7QxphzMiBrnqbnNnzt_lUxyip-mld50\"}\n",
    "        ]\n",
    "    }\n",
    "]"
   ]
  },
  {
   "cell_type": "code",
   "execution_count": null,
   "id": "fca201b1",
   "metadata": {},
   "outputs": [],
   "source": [
    "# Test 6.1 : Analysing an image with Mistral Medium\n",
    "\n",
    "chat_response = client.chat.complete(\n",
    "    model = \"mistral-medium-latest\",\n",
    "    messages=messages\n",
    ")\n",
    "\n",
    "# Print the content of the response\n",
    "print(chat_response.choices[0].message.content)"
   ]
  },
  {
   "cell_type": "code",
   "execution_count": null,
   "id": "ebb5d82b",
   "metadata": {},
   "outputs": [],
   "source": [
    "# Test 6.2 : Analysing an image with Mistral Small\n",
    "\n",
    "chat_response = client.chat.complete(\n",
    "    model = \"mistral-small-latest\",\n",
    "    messages=messages\n",
    ")\n",
    "\n",
    "# Print the content of the response\n",
    "print(chat_response.choices[0].message.content)"
   ]
  },
  {
   "cell_type": "code",
   "execution_count": null,
   "id": "878c3967",
   "metadata": {},
   "outputs": [],
   "source": [
    "# Test 6.3 : Analysing an image with Pixtral 12B\n",
    "\n",
    "chat_response = client.chat.complete(\n",
    "    model = \"pixtral-12b-latest\",\n",
    "    messages=messages\n",
    ")\n",
    "\n",
    "# Print the content of the response\n",
    "print(chat_response.choices[0].message.content)"
   ]
  },
  {
   "cell_type": "code",
   "execution_count": null,
   "id": "a02adf37",
   "metadata": {},
   "outputs": [],
   "source": [
    "# Test 6.4 : Analysing an image with Pixtral Large 2411\n",
    "\n",
    "chat_response = client.chat.complete(\n",
    "    model = \"pixtral-large-latest\",\n",
    "    messages=messages\n",
    ")\n",
    "\n",
    "# Print the content of the response\n",
    "print(chat_response.choices[0].message.content)"
   ]
  },
  {
   "cell_type": "code",
   "execution_count": null,
   "id": "7bda198a",
   "metadata": {},
   "outputs": [],
   "source": [
    "# Test 7,8,9: Document desciption\n",
    "\n",
    "# local document, upload and retrieval\n",
    "uploaded_pdf = client.files.upload(\n",
    "    file={\n",
    "        \"file_name\": \"ZTA Email Migration.pdf\",\n",
    "        \"content\": open(\"ZTA Email Migration.pdf\", \"rb\"),\n",
    "        },\n",
    "       purpose=\"ocr\"\n",
    "    )\n",
    "signed_url = client.files.get_signed_url(file_id=uploaded_pdf.id)\n"
   ]
  },
  {
   "cell_type": "code",
   "execution_count": null,
   "id": "204e61ea",
   "metadata": {},
   "outputs": [],
   "source": [
    "# Test 7: Document description query\n",
    "\n",
    "messages = [\n",
    "    {\n",
    "        \"role\": \"user\",\n",
    "        \"content\": [\n",
    "            {\"type\": \"text\", \"text\": \"May you describe the pdf document that was shared ?\"},\n",
    "            {\"type\": \"document_url\", \"document_url\": signed_url.url}\n",
    "        ]\n",
    "    }\n",
    "]"
   ]
  },
  {
   "cell_type": "code",
   "execution_count": null,
   "id": "b5338f8d",
   "metadata": {},
   "outputs": [],
   "source": [
    "# Test 7.1 : Analysing an doc with Mistral Medium\n",
    "\n",
    "chat_response = client.chat.complete(\n",
    "    model = \"mistral-medium-latest\",\n",
    "    messages=messages\n",
    ")\n",
    "\n",
    "# Print the content of the response\n",
    "print(chat_response.choices[0].message.content)"
   ]
  },
  {
   "cell_type": "code",
   "execution_count": null,
   "id": "e1ac3320",
   "metadata": {},
   "outputs": [],
   "source": [
    "# Test 7.2 : Analysing an doc with Mistral Small\n",
    "\n",
    "chat_response = client.chat.complete(\n",
    "    model = \"mistral-small-latest\",\n",
    "    messages=messages\n",
    ")\n",
    "\n",
    "# Print the content of the response\n",
    "print(chat_response.choices[0].message.content)"
   ]
  },
  {
   "cell_type": "code",
   "execution_count": null,
   "id": "05abd3d9",
   "metadata": {},
   "outputs": [],
   "source": [
    "# Test 8: Document information query\n",
    "\n",
    "messages = [\n",
    "    {\n",
    "        \"role\": \"user\",\n",
    "        \"content\": [\n",
    "            {\"type\": \"text\", \"text\": \"May you list the implantation team on the pdf document.  ?\"},\n",
    "            {\"type\": \"document_url\", \"document_url\": signed_url.url}\n",
    "        ]\n",
    "    }\n",
    "]"
   ]
  },
  {
   "cell_type": "code",
   "execution_count": null,
   "id": "e99a5dc2",
   "metadata": {},
   "outputs": [],
   "source": [
    "# Test 8.1 : Document information query with Mistral Medium\n",
    "\n",
    "chat_response = client.chat.complete(\n",
    "    model = \"mistral-medium-latest\",\n",
    "    messages=messages\n",
    ")\n",
    "\n",
    "# Print the content of the response\n",
    "print(chat_response.choices[0].message.content)"
   ]
  },
  {
   "cell_type": "code",
   "execution_count": null,
   "id": "519011fe",
   "metadata": {},
   "outputs": [],
   "source": [
    "# Test 8.2 : Document information query with Mistral Small\n",
    "\n",
    "chat_response = client.chat.complete(\n",
    "    model = \"mistral-small-latest\",\n",
    "    messages=messages\n",
    ")\n",
    "\n",
    "# Print the content of the response\n",
    "print(chat_response.choices[0].message.content)"
   ]
  },
  {
   "cell_type": "code",
   "execution_count": null,
   "id": "605092ec",
   "metadata": {},
   "outputs": [],
   "source": [
    "# Test 9: Document information query for image\n",
    "\n",
    "messages = [\n",
    "    {\n",
    "        \"role\": \"user\",\n",
    "        \"content\": [\n",
    "            {\"type\": \"text\", \"text\": \"Can you describe the image on page 1\"},\n",
    "            {\"type\": \"document_url\", \"document_url\": signed_url.url}\n",
    "        ]\n",
    "    }\n",
    "]"
   ]
  },
  {
   "cell_type": "code",
   "execution_count": null,
   "id": "386448f0",
   "metadata": {},
   "outputs": [],
   "source": [
    "# Test 9.1 : Document information query for image with Mistral Medium\n",
    "\n",
    "chat_response = client.chat.complete(\n",
    "    model = \"mistral-medium-latest\",\n",
    "    messages=messages\n",
    ")\n",
    "\n",
    "# Print the content of the response\n",
    "print(chat_response.choices[0].message.content)"
   ]
  },
  {
   "cell_type": "code",
   "execution_count": 76,
   "id": "4eb4f32f",
   "metadata": {},
   "outputs": [
    {
     "ename": "SDKError",
     "evalue": "API error occurred: Status 400\n{\"object\":\"error\",\"message\":\"File could not be fetched from url 'https://private-user-images.githubusercontent.com/228657294/486017255-28ecb86d-fcfb-4cdd-ba08-646b6260c24c.png?jwt=eyJ0eXAiOiJKV1QiLCJhbGciOiJIUzI1NiJ9.eyJpc3MiOiJnaXRodWIuY29tIiwiYXVkIjoicmF3LmdpdGh1YnVzZXJjb250ZW50LmNvbSIsImtleSI6ImtleTUiLCJleHAiOj...QmWC1BbXotRGF0ZT0yMDI1MDkwNVQwODMxNTNaJlgtQW16LUV4cGlyZXM9MzAwJlgtQW16LVNpZ25hdHVyZT00ZmMwM2RiOTlhNDIwMzVlMWJhY2VlYTY4ZmFkYzBjZjI2M2UwNmMxZjZhZmI0NmU2YzRhZmQxZDA3MjBmZjI4JlgtQW16LVNpZ25lZEhlYWRlcnM9aG9zdCJ9.UWbD40PkCt4MEyePyCsv9om53PPUGFFmqHLtkGDeZHY'\",\"type\":\"invalid_request_file\",\"param\":null,\"code\":\"3310\"}",
     "output_type": "error",
     "traceback": [
      "\u001b[1;31m---------------------------------------------------------------------------\u001b[0m",
      "\u001b[1;31mSDKError\u001b[0m                                  Traceback (most recent call last)",
      "Cell \u001b[1;32mIn[76], line 3\u001b[0m\n\u001b[0;32m      1\u001b[0m \u001b[38;5;66;03m# Test 9.2 : Document information query for image with Mistral Small\u001b[39;00m\n\u001b[1;32m----> 3\u001b[0m chat_response \u001b[38;5;241m=\u001b[39m \u001b[43mclient\u001b[49m\u001b[38;5;241;43m.\u001b[39;49m\u001b[43mchat\u001b[49m\u001b[38;5;241;43m.\u001b[39;49m\u001b[43mcomplete\u001b[49m\u001b[43m(\u001b[49m\n\u001b[0;32m      4\u001b[0m \u001b[43m    \u001b[49m\u001b[43mmodel\u001b[49m\u001b[43m \u001b[49m\u001b[38;5;241;43m=\u001b[39;49m\u001b[43m \u001b[49m\u001b[38;5;124;43m\"\u001b[39;49m\u001b[38;5;124;43mmistral-small-latest\u001b[39;49m\u001b[38;5;124;43m\"\u001b[39;49m\u001b[43m,\u001b[49m\n\u001b[0;32m      5\u001b[0m \u001b[43m    \u001b[49m\u001b[43mmessages\u001b[49m\u001b[38;5;241;43m=\u001b[39;49m\u001b[43mmessages\u001b[49m\n\u001b[0;32m      6\u001b[0m \u001b[43m)\u001b[49m\n\u001b[0;32m      8\u001b[0m \u001b[38;5;66;03m# Print the content of the response\u001b[39;00m\n\u001b[0;32m      9\u001b[0m \u001b[38;5;28mprint\u001b[39m(chat_response\u001b[38;5;241m.\u001b[39mchoices[\u001b[38;5;241m0\u001b[39m]\u001b[38;5;241m.\u001b[39mmessage\u001b[38;5;241m.\u001b[39mcontent)\n",
      "File \u001b[1;32m~\\AppData\\Local\\anaconda3\\lib\\site-packages\\mistralai\\chat.py:247\u001b[0m, in \u001b[0;36mChat.complete\u001b[1;34m(self, model, messages, temperature, top_p, max_tokens, stream, stop, random_seed, response_format, tools, tool_choice, presence_penalty, frequency_penalty, n, prediction, parallel_tool_calls, prompt_mode, safe_prompt, retries, server_url, timeout_ms, http_headers)\u001b[0m\n\u001b[0;32m    245\u001b[0m \u001b[38;5;28;01mif\u001b[39;00m utils\u001b[38;5;241m.\u001b[39mmatch_response(http_res, \u001b[38;5;124m\"\u001b[39m\u001b[38;5;124m4XX\u001b[39m\u001b[38;5;124m\"\u001b[39m, \u001b[38;5;124m\"\u001b[39m\u001b[38;5;124m*\u001b[39m\u001b[38;5;124m\"\u001b[39m):\n\u001b[0;32m    246\u001b[0m     http_res_text \u001b[38;5;241m=\u001b[39m utils\u001b[38;5;241m.\u001b[39mstream_to_text(http_res)\n\u001b[1;32m--> 247\u001b[0m     \u001b[38;5;28;01mraise\u001b[39;00m models\u001b[38;5;241m.\u001b[39mSDKError(\n\u001b[0;32m    248\u001b[0m         \u001b[38;5;124m\"\u001b[39m\u001b[38;5;124mAPI error occurred\u001b[39m\u001b[38;5;124m\"\u001b[39m, http_res\u001b[38;5;241m.\u001b[39mstatus_code, http_res_text, http_res\n\u001b[0;32m    249\u001b[0m     )\n\u001b[0;32m    250\u001b[0m \u001b[38;5;28;01mif\u001b[39;00m utils\u001b[38;5;241m.\u001b[39mmatch_response(http_res, \u001b[38;5;124m\"\u001b[39m\u001b[38;5;124m5XX\u001b[39m\u001b[38;5;124m\"\u001b[39m, \u001b[38;5;124m\"\u001b[39m\u001b[38;5;124m*\u001b[39m\u001b[38;5;124m\"\u001b[39m):\n\u001b[0;32m    251\u001b[0m     http_res_text \u001b[38;5;241m=\u001b[39m utils\u001b[38;5;241m.\u001b[39mstream_to_text(http_res)\n",
      "\u001b[1;31mSDKError\u001b[0m: API error occurred: Status 400\n{\"object\":\"error\",\"message\":\"File could not be fetched from url 'https://private-user-images.githubusercontent.com/228657294/486017255-28ecb86d-fcfb-4cdd-ba08-646b6260c24c.png?jwt=eyJ0eXAiOiJKV1QiLCJhbGciOiJIUzI1NiJ9.eyJpc3MiOiJnaXRodWIuY29tIiwiYXVkIjoicmF3LmdpdGh1YnVzZXJjb250ZW50LmNvbSIsImtleSI6ImtleTUiLCJleHAiOj...QmWC1BbXotRGF0ZT0yMDI1MDkwNVQwODMxNTNaJlgtQW16LUV4cGlyZXM9MzAwJlgtQW16LVNpZ25hdHVyZT00ZmMwM2RiOTlhNDIwMzVlMWJhY2VlYTY4ZmFkYzBjZjI2M2UwNmMxZjZhZmI0NmU2YzRhZmQxZDA3MjBmZjI4JlgtQW16LVNpZ25lZEhlYWRlcnM9aG9zdCJ9.UWbD40PkCt4MEyePyCsv9om53PPUGFFmqHLtkGDeZHY'\",\"type\":\"invalid_request_file\",\"param\":null,\"code\":\"3310\"}"
     ]
    }
   ],
   "source": [
    "# Test 9.2 : Document information query for image with Mistral Small\n",
    "\n",
    "chat_response = client.chat.complete(\n",
    "    model = \"mistral-small-latest\",\n",
    "    messages=messages\n",
    ")\n",
    "\n",
    "# Print the content of the response\n",
    "print(chat_response.choices[0].message.content)"
   ]
  },
  {
   "cell_type": "code",
   "execution_count": null,
   "id": "2733e91d",
   "metadata": {},
   "outputs": [],
   "source": [
    "# Test 10 : Information query from audio\n",
    "\n",
    "messages = [\n",
    "    {\n",
    "        \"role\": \"user\",\n",
    "        \"content\": [\n",
    "             {\n",
    "                \"type\": \"input_audio\",\"input_audio\": \"https://openaiassets.blob.core.windows.net/$web/API/docs/audio/alloy.wav\",\n",
    "             },\n",
    "             {\n",
    "                \"type\": \"text\",\"text\": \"Can you put this audio to speech ?\"\n",
    "            }  \n",
    "        ]\n",
    "    }\n",
    "]"
   ]
  },
  {
   "cell_type": "code",
   "execution_count": null,
   "id": "b9bab397",
   "metadata": {},
   "outputs": [],
   "source": [
    "# Test 10.1 : Audio to speech with Voxtral Small\n",
    "\n",
    "chat_response = client.chat.complete(\n",
    "    model = \"voxtral-small-latest\",\n",
    "    messages=messages\n",
    ")\n",
    "\n",
    "# Print the content of the response\n",
    "print(chat_response.choices[0].message.content)"
   ]
  },
  {
   "cell_type": "code",
   "execution_count": null,
   "id": "b41e99df",
   "metadata": {},
   "outputs": [],
   "source": [
    "# Test 10.2 : Audio to speech with Voxtral Mini\n",
    "\n",
    "chat_response = client.chat.complete(\n",
    "    model = \"voxtral-mini-latest\",\n",
    "    messages=messages\n",
    ")\n",
    "\n",
    "# Print the content of the response\n",
    "print(chat_response.choices[0].message.content)"
   ]
  },
  {
   "cell_type": "code",
   "execution_count": null,
   "id": "0f26c096",
   "metadata": {},
   "outputs": [],
   "source": [
    "# Test 10.3 : Audio to speech with Voxtral Mini Transcribe \n",
    "\n",
    "transcription_response = client.audio.transcriptions.complete(\n",
    "    model= \"voxtral-mini-latest\",\n",
    "    file_url=\"https://openaiassets.blob.core.windows.net/$web/API/docs/audio/alloy.wav\",\n",
    "    timestamp_granularities=[\"segment\"]\n",
    ")\n",
    "\n",
    "# Print the content of the response\n",
    "print(transcription_response)"
   ]
  },
  {
   "cell_type": "code",
   "execution_count": null,
   "id": "72031b87",
   "metadata": {},
   "outputs": [],
   "source": [
    "# Test 11 : Translate query from audio\n",
    "\n",
    "messages = [\n",
    "    {\n",
    "        \"role\": \"user\",\n",
    "        \"content\": [\n",
    "             {\n",
    "                \"type\": \"input_audio\",\"input_audio\": \"https://openaiassets.blob.core.windows.net/$web/API/docs/audio/alloy.wav\",\n",
    "             },\n",
    "             {\n",
    "                \"type\": \"text\",\"text\": \"Translate the audio to Shona and Swahili. Output should be text.\"\n",
    "            }  \n",
    "        ]\n",
    "    }\n",
    "]"
   ]
  },
  {
   "cell_type": "code",
   "execution_count": null,
   "id": "752c01ee",
   "metadata": {},
   "outputs": [],
   "source": [
    "# Test 11.1 : Translate query from audio with Voxtral Small\n",
    "\n",
    "chat_response = client.chat.complete(\n",
    "    model = \"voxtral-small-latest\",\n",
    "    messages=messages\n",
    ")\n",
    "\n",
    "# Print the content of the response\n",
    "print(chat_response.choices[0].message.content)"
   ]
  },
  {
   "cell_type": "code",
   "execution_count": null,
   "id": "3b06c7a6",
   "metadata": {
    "scrolled": true
   },
   "outputs": [],
   "source": [
    "# Test 11.2 : Translate query from audio with Voxtral Mini\n",
    "\n",
    "chat_response = client.chat.complete(\n",
    "    model = \"voxtral-mini-latest\",\n",
    "    messages=messages\n",
    ")\n",
    "\n",
    "# Print the content of the response\n",
    "print(chat_response.choices[0].message.content)"
   ]
  },
  {
   "cell_type": "code",
   "execution_count": null,
   "id": "5f2fd40f",
   "metadata": {},
   "outputs": [],
   "source": [
    "# Test 12 : Translate query from audio, with audio output\n",
    "\n",
    "messages = [\n",
    "    {\n",
    "        \"role\": \"user\",\n",
    "        \"content\": [\n",
    "             {\n",
    "                \"type\": \"input_audio\",\"input_audio\": \"https://openaiassets.blob.core.windows.net/$web/API/docs/audio/alloy.wav\",\n",
    "             },\n",
    "             {\n",
    "                \"type\": \"text\",\"text\": \"Translate the audio to Shona and Swahili. Output should be audio.\"\n",
    "            }  \n",
    "        ]\n",
    "    }\n",
    "]"
   ]
  },
  {
   "cell_type": "code",
   "execution_count": null,
   "id": "347768cf",
   "metadata": {},
   "outputs": [],
   "source": [
    "# Test 12.1 : Translate query from audio, with audio output with Voxtral Small\n",
    "\n",
    "chat_response = client.chat.complete(\n",
    "    model = \"voxtral-small-latest\",\n",
    "    messages=messages\n",
    ")\n",
    "\n",
    "# Print the content of the response\n",
    "print(chat_response.choices[0].message.content)"
   ]
  },
  {
   "cell_type": "code",
   "execution_count": null,
   "id": "f66c75c4",
   "metadata": {},
   "outputs": [],
   "source": [
    "Tests Completed"
   ]
  }
 ],
 "metadata": {
  "kernelspec": {
   "display_name": "Python 3 (ipykernel)",
   "language": "python",
   "name": "python3"
  },
  "language_info": {
   "codemirror_mode": {
    "name": "ipython",
    "version": 3
   },
   "file_extension": ".py",
   "mimetype": "text/x-python",
   "name": "python",
   "nbconvert_exporter": "python",
   "pygments_lexer": "ipython3",
   "version": "3.10.9"
  }
 },
 "nbformat": 4,
 "nbformat_minor": 5
}

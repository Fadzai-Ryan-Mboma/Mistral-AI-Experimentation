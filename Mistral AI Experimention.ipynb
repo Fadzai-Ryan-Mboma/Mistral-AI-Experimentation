{
 "cells": [
  {
   "cell_type": "code",
   "execution_count": null,
   "id": "6307454e",
   "metadata": {},
   "outputs": [],
   "source": [
    "pip install mistralai"
   ]
  },
  {
   "cell_type": "code",
   "execution_count": null,
   "id": "a2775108",
   "metadata": {},
   "outputs": [],
   "source": [
    "Test 1: This is a fine chill morning (Translate to Shona and Swahili)"
   ]
  },
  {
   "cell_type": "code",
   "execution_count": null,
   "id": "3d4919d3",
   "metadata": {},
   "outputs": [],
   "source": [
    "import os\n",
    "import httpx\n",
    "from mistralai import Mistral\n",
    "\n",
    "client_httpx = httpx.Client(verify=False)\n",
    "\n",
    "api_key = \"76yvXhlBM63qCdkGKh5SCgTmT1QyMHCV\"\n",
    "\n",
    "client = Mistral(api_key=api_key, client=client_httpx)"
   ]
  },
  {
   "cell_type": "code",
   "execution_count": 44,
   "id": "96f56914",
   "metadata": {},
   "outputs": [
    {
     "name": "stdout",
     "output_type": "stream",
     "text": [
      "**Shona:** \"Kwaura hwawo haasi kudaro.\"\n",
      "\n",
      "**Swahili:** \"Sasa ni asubuhi njema.\"\n"
     ]
    }
   ],
   "source": [
    "# Test 1.1.1: This is a fine chill morning (Translate to Shona and Swahili) with Mistral Medium as user\n",
    "\n",
    "chat_response = client.chat.complete(\n",
    "    model = \"mistral-tiny-latest\",\n",
    "    messages=[\n",
    "        {\n",
    "            \"role\": \"user\",\n",
    "            \"content\": \"Translate to Shona and Swahili : This is a fine chill morning\",\n",
    "        },\n",
    "    ]\n",
    ")\n",
    "\n",
    "print(chat_response.choices[0].message.content)"
   ]
  },
  {
   "cell_type": "code",
   "execution_count": 45,
   "id": "89afdc56",
   "metadata": {},
   "outputs": [
    {
     "name": "stdout",
     "output_type": "stream",
     "text": [
      "Here are the translations of **\"This is a fine chill morning\"** in **Shona** and **Swahili**:\n",
      "\n",
      "### **Shona:**\n",
      "**\"Iyi zuva ndiro rudo rwakanaka rine mhepo inonaka.\"**\n",
      "*(Alternative, more natural phrasing: **\"Iyi zuva ndiro rudo rwakanaka, mhepo inonaka.\"**)*\n",
      "\n",
      "*(Note: Shona does not have a direct equivalent for \"chill\" in the sense of relaxed/cool weather, so \"mhepo inonaka\" (pleasant breeze) is used to convey the idea.)*\n",
      "\n",
      "---\n",
      "\n",
      "### **Swahili:**\n",
      "**\"Asubuhi hii ni baridi ya furaha.\"**\n",
      "*(Alternative: **\"Asubuhi hii ni baridi nzuri na raha.\"** for a more relaxed/pleasant tone.)*\n",
      "\n",
      "*(Note: \"Baridi\" means \"cool/cold,\" and \"furaha\" or \"raha\" adds the pleasant/chill vibe.)*\n"
     ]
    }
   ],
   "source": [
    "# Test 1.1.2: This is a fine chill morning (Translate to Shona and Swahili) with Mistral Medium as system\n",
    "\n",
    "chat_response = client.chat.complete(\n",
    "    model = \"mistral-large-latest\",\n",
    "    messages=[\n",
    "        {\n",
    "            \"role\": \"system\",\n",
    "            \"content\": \"Translate to Shona and Swahili : This is a fine chill morning\",\n",
    "        },\n",
    "    ]\n",
    ")\n",
    "\n",
    "print(chat_response.choices[0].message.content)"
   ]
  },
  {
   "cell_type": "code",
   "execution_count": 46,
   "id": "909d507a",
   "metadata": {},
   "outputs": [
    {
     "name": "stdout",
     "output_type": "stream",
     "text": [
      "Here are the translations of \"This is a fine chill morning\" into Shona and Swahili:\n",
      "\n",
      "- **Shona:** \"Iri mubvunzo wemutemo wemusana\"\n",
      "- **Swahili:** \"Hii ni asubuhi ya baridi na salama\"\n",
      "\n",
      "These translations convey the sense of a pleasant, cool morning in both languages.\n"
     ]
    }
   ],
   "source": [
    "# Test 1.2: This is a fine chill morning (Translate to Shona and Swahili) with Mistral Small\n",
    "\n",
    "chat_response = client.chat.complete(\n",
    "    model = \"mistral-small-latest\",\n",
    "    messages=[\n",
    "        {\n",
    "            \"role\": \"system\",\n",
    "            \"content\": \"Translate to Shona and Swahili : This is a fine chill morning\",\n",
    "        },\n",
    "    ]\n",
    ")\n",
    "\n",
    "print(chat_response.choices[0].message.content)"
   ]
  },
  {
   "cell_type": "code",
   "execution_count": 47,
   "id": "9b1b6300",
   "metadata": {},
   "outputs": [
    {
     "name": "stdout",
     "output_type": "stream",
     "text": [
      "Here are the translations of your request in **Shona** and **Swahili**:\n",
      "\n",
      "### **Shona:**\n",
      "*\"Ndine simba, ndinokumbirawo ruregerero. Ndinoda ruregerero rweupenyu hwepfungwa, asi handizivi kuti ndaende kupi.\"*\n",
      "\n",
      "*(Alternative, more casual version:)*\n",
      "*\"Ndokumbirawo, ndinoda ruregerero rweupenyu, asi handizivi kuti ndaende kupi.\"*\n",
      "\n",
      "---\n",
      "\n",
      "### **Swahili:**\n",
      "*\"Tafadhali, naomba msaada wako. Nahitaji msaada wa matibabu na sijui nenda wapi.\"*\n",
      "\n",
      "*(Alternative, more urgent version:)*\n",
      "*\"Naomba msaada haraka! Nahitaji matibabu na sijui hospitali ipi inafaa.\"*\n",
      "\n",
      "---\n"
     ]
    }
   ],
   "source": [
    "# Test 2.1: May you please help me. I need medical help and l am not sure of where to go \n",
    "# (Translate to Shona and Swahili) with Mistral Medium\n",
    "\n",
    "chat_response = client.chat.complete(\n",
    "    model = \"mistral-large-latest\",\n",
    "    messages=[\n",
    "        {\n",
    "            \"role\": \"system\",\n",
    "            \"content\": \"Translate to Shona and Swahili : May you please help me. I need medical help and l am not sure of where to go\",\n",
    "        },\n",
    "    ]\n",
    ")\n",
    "\n",
    "print(chat_response.choices[0].message.content)"
   ]
  },
  {
   "cell_type": "code",
   "execution_count": 48,
   "id": "b239434c",
   "metadata": {},
   "outputs": [
    {
     "name": "stdout",
     "output_type": "stream",
     "text": [
      "**Shona:**\n",
      "*Ungadzidze ndinokusanganisira. Ndine nzira yekuti ndaive yekushanda, asi handina kuziva kuti ndaive kuti ndakabuda.*\n",
      "\n",
      "**Swahili:**\n",
      "*Ungeweza msaada wangu? Nina haja ya msaada wa afya, lakini sio na ufahamu wa kuhudumia.*\n",
      "\n",
      "*(Note: The Shona translation is a bit more literal and may need slight adjustments for natural flow, while the Swahili version is more idiomatic.)*\n"
     ]
    }
   ],
   "source": [
    "# Test 2.2: May you please help me. I need medical help and l am not sure of where to go \n",
    "# (Translate to Shona and Swahili) with Mistral Small\n",
    "\n",
    "chat_response = client.chat.complete(\n",
    "    model = \"mistral-small-latest\",\n",
    "    messages=[\n",
    "        {\n",
    "            \"role\": \"system\",\n",
    "            \"content\": \"Translate to Shona and Swahili : May you please help me. I need medical help and l am not sure of where to go\",\n",
    "        },\n",
    "    ]\n",
    ")\n",
    "\n",
    "print(chat_response.choices[0].message.content)"
   ]
  },
  {
   "cell_type": "code",
   "execution_count": 49,
   "id": "3b3f4e6e",
   "metadata": {},
   "outputs": [
    {
     "name": "stdout",
     "output_type": "stream",
     "text": [
      "Here is the translation in **Shona** and **English**:\n",
      "\n",
      "### **Shona:**\n",
      "**Zita rangu ndiri Aisha. Ini ndiri mwanachikoro wechikoro chekudzidza. Ndakabva kumunhara weMombasa. Ndiri kuzotambira nehama yangu. Ndichada kuziverenga mabhuku nekudzoka netembe. Mufambi wangu anoziva kare anoziva David. Yeye ndiye mupembei we tembe. Tinofurira zvakanaka tese tinotambira pamwe.**\n",
      "\n",
      "### **English:**\n",
      "**My name is Aisha. I am a university student. I come from the city of Mombasa. I live with my family. I enjoy reading books and playing basketball. My close friend is named David. He is a soccer player. We have a lot of fun when we are together.**\n"
     ]
    }
   ],
   "source": [
    "# Test 3.1: Jina langu ni Aisha. Mimi ni mwanafunzi wa Chuo Kikuu. Natoka katika mji wa Mombasa. \n",
    "# Ninaishi na familia yangu. Ninapenda kusoma vitabu na kucheza mpira wa kikapu. \n",
    "# Rafiki yangu wa karibu anaitwa David. Yeye ni mchezaji wa mpira wa miguu. \n",
    "# Tunafurahi sana tunapokuwa pamoja.  \n",
    "# (Translate to Shona and English) with Mistral Medium\n",
    "\n",
    "chat_response = client.chat.complete(\n",
    "    model = \"mistral-medium-latest\",\n",
    "    messages=[\n",
    "        {\n",
    "            \"role\": \"system\",\n",
    "            \"content\": \"Translate to Shona and English : Jina langu ni Aisha. Mimi ni mwanafunzi wa Chuo Kikuu. Natoka katika mji wa Mombasa. Ninaishi na familia yangu. Ninapenda kusoma vitabu na kucheza mpira wa kikapu. Rafiki yangu wa karibu anaitwa David. Yeye ni mchezaji wa mpira wa miguu. Tunafurahi sana tunapokuwa pamoja.\",\n",
    "        },\n",
    "    ]\n",
    ")\n",
    "\n",
    "print(chat_response.choices[0].message.content)"
   ]
  },
  {
   "cell_type": "code",
   "execution_count": 50,
   "id": "047c5003",
   "metadata": {},
   "outputs": [
    {
     "name": "stdout",
     "output_type": "stream",
     "text": [
      "Here is the translation of your text into Shona and English:\n",
      "\n",
      "**Shona:**\n",
      "Ndakabva Aisha. Ndinomwana wechikoro. Ndakabva Mombasa. Ndine nafamiria yangu. Ndinopenda kudziva mabhuku nekucheka mpira wekapu. Murwizi wangu wemunhu ane David. Yeye ndiye mubvunza wekufa. Tinofadza kuti tiri pano pano.\n",
      "\n",
      "**English:**\n",
      "My name is Aisha. I am a university student. I come from the city of Mombasa. I live with my family. I like to read books and play basketball. My close friend is called David. He is a football player. We enjoy ourselves when we are together.\n"
     ]
    }
   ],
   "source": [
    "# Test 3.2: Jina langu ni Aisha. Mimi ni mwanafunzi wa Chuo Kikuu. Natoka katika mji wa Mombasa. \n",
    "# Ninaishi na familia yangu. Ninapenda kusoma vitabu na kucheza mpira wa kikapu. \n",
    "# Rafiki yangu wa karibu anaitwa David. Yeye ni mchezaji wa mpira wa miguu. \n",
    "# Tunafurahi sana tunapokuwa pamoja.  \n",
    "# (Translate to Shona and English) with Mistral Small\n",
    "\n",
    "chat_response = client.chat.complete(\n",
    "    model = \"mistral-small-latest\",\n",
    "    messages=[\n",
    "        {\n",
    "            \"role\": \"system\",\n",
    "            \"content\": \"Translate to Shona and English : Jina langu ni Aisha. Mimi ni mwanafunzi wa Chuo Kikuu. Natoka katika mji wa Mombasa. Ninaishi na familia yangu. Ninapenda kusoma vitabu na kucheza mpira wa kikapu. Rafiki yangu wa karibu anaitwa David. Yeye ni mchezaji wa mpira wa miguu. Tunafurahi sana tunapokuwa pamoja.\",\n",
    "        },\n",
    "    ]\n",
    ")\n",
    "\n",
    "print(chat_response.choices[0].message.content)"
   ]
  },
  {
   "cell_type": "code",
   "execution_count": 51,
   "id": "df6c8b8a",
   "metadata": {},
   "outputs": [
    {
     "name": "stdout",
     "output_type": "stream",
     "text": [
      "Here’s your translation in **English** and **Swahili**:\n",
      "\n",
      "---\n",
      "### **English:**\n",
      "*\"Hey friend, how are you today? I’m doing well. I’m heading home, but we’ll meet again soon. Have a great day!\"*\n",
      "\n",
      "---\n",
      "### **Swahili:**\n",
      "*\"Hujambo rafiki, umekuwaje leo? Mimi nimepoa. Ninaenda nyumbani, lakini tutakutana tena hivi karibuni. Ufanye siku njema!\"*\n",
      "\n",
      "---\n",
      "### **Notes:**\n",
      "- **\"Hesi Shamwari\"** → Shona greeting (\"Hey friend\") → Translated as *\"Hujambo rafiki\"* (Swahili) / *\"Hey friend\"* (English).\n",
      "- **\"Wakadii nhasi?\"** → Shona for *\"How are you today?\"* → *\"Umekuwaje leo?\"* (Swahili) / *\"How are you today?\"* (English).\n",
      "- **\"Tichasanganazve mangwanya\"** → *\"We’ll meet again soon\"* (literally \"we’ll hold hands again soon\" in Shona).\n",
      "- **\"Uve nezuva rakanaka\"** → *\"Have a good day\"* → *\"Ufanye siku njema\"* (Swahili).\n"
     ]
    }
   ],
   "source": [
    "# Test 4.1: Hesi Shamwari, wakadii nhasi? Ini ndiripo zvangu. Ndirikuenda kumba, asi tichasanganazve mangwanya. \n",
    "# Uve nezuva rakanaka!  \n",
    "# (Translate to English and Swahili) with Mistral Medium\n",
    "\n",
    "chat_response = client.chat.complete(\n",
    "    model = \"mistral-large-latest\",\n",
    "    messages=[\n",
    "        {\n",
    "            \"role\": \"system\",\n",
    "            \"content\": \"Translate to English and Swahili : Hesi Shamwari, wakadii nhasi? Ini ndiripo zvangu. Ndirikuenda kumba, asi tichasanganazve mangwanya. Uve nezuva rakanaka!\",\n",
    "        },\n",
    "    ]\n",
    ")\n",
    "\n",
    "print(chat_response.choices[0].message.content)"
   ]
  },
  {
   "cell_type": "code",
   "execution_count": 52,
   "id": "5422857a",
   "metadata": {
    "scrolled": true
   },
   "outputs": [
    {
     "name": "stdout",
     "output_type": "stream",
     "text": [
      "**English:**\n",
      "\"Hesi Shamwari, how are you today? I am at my place. I am going home, but let's meet later. Have a nice day!\"\n",
      "\n",
      "**Swahili:**\n",
      "\"Hesi Shamwari, habari yako leo? Nimekwisha kwangu. Ninakwenda nyumbani, lakini tutakutana baadaye. Uwe na usiku mwema!\"\n"
     ]
    }
   ],
   "source": [
    "# Test 4.2: Hesi Shamwari, wakadii nhasi? Ini ndiripo zvangu. Ndirikuenda kumba, asi tichasanganazve mangwanya. \n",
    "# Uve nezuva rakanaka!  \n",
    "# (Translate to English and Swahili) with Mistral Small\n",
    "\n",
    "chat_response = client.chat.complete(\n",
    "    model = \"mistral-small-latest\",\n",
    "    messages=[\n",
    "        {\n",
    "            \"role\": \"system\",\n",
    "            \"content\": \"Translate to English and Swahili : Hesi Shamwari, wakadii nhasi? Ini ndiripo zvangu. Ndirikuenda kumba, asi tichasanganazve mangwanya. Uve nezuva rakanaka!\",\n",
    "        },\n",
    "    ]\n",
    ")\n",
    "\n",
    "print(chat_response.choices[0].message.content)"
   ]
  },
  {
   "cell_type": "code",
   "execution_count": null,
   "id": "fcc251e8",
   "metadata": {},
   "outputs": [],
   "source": []
  },
  {
   "cell_type": "code",
   "execution_count": 70,
   "id": "cf75a831",
   "metadata": {},
   "outputs": [],
   "source": [
    "# Test 5 : Analysing an image\n",
    "\n",
    "#import base64\n",
    "#def encode_image(image_path):\n",
    "#    with open(image_path, \"rb\") as image_file:\n",
    "#        return base64.b64encode(image_file.read()).decode(\"utf-8\")\n",
    "#base64_image = encode_image(\"https://www.pexels.com/photo/sunset-beach-scene-with-skyline-and-lifeguard-tower-33170266\")\n",
    "\n",
    "messages = [\n",
    "    {\n",
    "        \"role\": \"user\",\n",
    "        \"content\": [\n",
    "            {\"type\": \"text\", \"text\": \"What's in this image?\"},\n",
    "            {\"type\": \"image_url\", \"image_url\": \"http:\\\\localhost:8888\\view\\OneDrive-Liquid Intelligent Technologies\\Documents\\Cassava AI\\Mistral AI\\car with license plate.png\"}\n",
    "        ]\n",
    "    }\n",
    "]\n"
   ]
  },
  {
   "cell_type": "code",
   "execution_count": 71,
   "id": "9c92c487",
   "metadata": {},
   "outputs": [
    {
     "ename": "SDKError",
     "evalue": "API error occurred: Status 400\n{\"object\":\"error\",\"message\":\"Image content must be a URL (starting with 'https') or base64 encoded image (starting with 'data:image/<format>;base64,<image-base64>'). Received: http:\\\\localhost:8888\\u000biew\\\\OneDrive-Liquid Intellige...s\\\\Cassava AI\\\\Mistral AI\\\\car with license plate.png\",\"type\":\"invalid_request_invalid_args\",\"param\":null,\"code\":\"3051\"}",
     "output_type": "error",
     "traceback": [
      "\u001b[1;31m---------------------------------------------------------------------------\u001b[0m",
      "\u001b[1;31mSDKError\u001b[0m                                  Traceback (most recent call last)",
      "Cell \u001b[1;32mIn[71], line 3\u001b[0m\n\u001b[0;32m      1\u001b[0m \u001b[38;5;66;03m# Test 5.1 : Analysing an image with Mistral Medium\u001b[39;00m\n\u001b[1;32m----> 3\u001b[0m chat_response \u001b[38;5;241m=\u001b[39m \u001b[43mclient\u001b[49m\u001b[38;5;241;43m.\u001b[39;49m\u001b[43mchat\u001b[49m\u001b[38;5;241;43m.\u001b[39;49m\u001b[43mcomplete\u001b[49m\u001b[43m(\u001b[49m\n\u001b[0;32m      4\u001b[0m \u001b[43m    \u001b[49m\u001b[43mmodel\u001b[49m\u001b[43m \u001b[49m\u001b[38;5;241;43m=\u001b[39;49m\u001b[43m \u001b[49m\u001b[38;5;124;43m\"\u001b[39;49m\u001b[38;5;124;43mmistral-medium-latest\u001b[39;49m\u001b[38;5;124;43m\"\u001b[39;49m\u001b[43m,\u001b[49m\n\u001b[0;32m      5\u001b[0m \u001b[43m    \u001b[49m\u001b[43mmessages\u001b[49m\u001b[38;5;241;43m=\u001b[39;49m\u001b[43mmessages\u001b[49m\n\u001b[0;32m      6\u001b[0m \u001b[43m)\u001b[49m\n\u001b[0;32m      8\u001b[0m \u001b[38;5;66;03m# Print the content of the response\u001b[39;00m\n\u001b[0;32m      9\u001b[0m \u001b[38;5;28mprint\u001b[39m(chat_response\u001b[38;5;241m.\u001b[39mchoices[\u001b[38;5;241m0\u001b[39m]\u001b[38;5;241m.\u001b[39mmessage\u001b[38;5;241m.\u001b[39mcontent)\n",
      "File \u001b[1;32m~\\AppData\\Local\\anaconda3\\lib\\site-packages\\mistralai\\chat.py:247\u001b[0m, in \u001b[0;36mChat.complete\u001b[1;34m(self, model, messages, temperature, top_p, max_tokens, stream, stop, random_seed, response_format, tools, tool_choice, presence_penalty, frequency_penalty, n, prediction, parallel_tool_calls, prompt_mode, safe_prompt, retries, server_url, timeout_ms, http_headers)\u001b[0m\n\u001b[0;32m    245\u001b[0m \u001b[38;5;28;01mif\u001b[39;00m utils\u001b[38;5;241m.\u001b[39mmatch_response(http_res, \u001b[38;5;124m\"\u001b[39m\u001b[38;5;124m4XX\u001b[39m\u001b[38;5;124m\"\u001b[39m, \u001b[38;5;124m\"\u001b[39m\u001b[38;5;124m*\u001b[39m\u001b[38;5;124m\"\u001b[39m):\n\u001b[0;32m    246\u001b[0m     http_res_text \u001b[38;5;241m=\u001b[39m utils\u001b[38;5;241m.\u001b[39mstream_to_text(http_res)\n\u001b[1;32m--> 247\u001b[0m     \u001b[38;5;28;01mraise\u001b[39;00m models\u001b[38;5;241m.\u001b[39mSDKError(\n\u001b[0;32m    248\u001b[0m         \u001b[38;5;124m\"\u001b[39m\u001b[38;5;124mAPI error occurred\u001b[39m\u001b[38;5;124m\"\u001b[39m, http_res\u001b[38;5;241m.\u001b[39mstatus_code, http_res_text, http_res\n\u001b[0;32m    249\u001b[0m     )\n\u001b[0;32m    250\u001b[0m \u001b[38;5;28;01mif\u001b[39;00m utils\u001b[38;5;241m.\u001b[39mmatch_response(http_res, \u001b[38;5;124m\"\u001b[39m\u001b[38;5;124m5XX\u001b[39m\u001b[38;5;124m\"\u001b[39m, \u001b[38;5;124m\"\u001b[39m\u001b[38;5;124m*\u001b[39m\u001b[38;5;124m\"\u001b[39m):\n\u001b[0;32m    251\u001b[0m     http_res_text \u001b[38;5;241m=\u001b[39m utils\u001b[38;5;241m.\u001b[39mstream_to_text(http_res)\n",
      "\u001b[1;31mSDKError\u001b[0m: API error occurred: Status 400\n{\"object\":\"error\",\"message\":\"Image content must be a URL (starting with 'https') or base64 encoded image (starting with 'data:image/<format>;base64,<image-base64>'). Received: http:\\\\localhost:8888\\u000biew\\\\OneDrive-Liquid Intellige...s\\\\Cassava AI\\\\Mistral AI\\\\car with license plate.png\",\"type\":\"invalid_request_invalid_args\",\"param\":null,\"code\":\"3051\"}"
     ]
    }
   ],
   "source": [
    "# Test 5.1 : Analysing an image with Mistral Medium\n",
    "\n",
    "chat_response = client.chat.complete(\n",
    "    model = \"mistral-medium-latest\",\n",
    "    messages=messages\n",
    ")\n",
    "\n",
    "# Print the content of the response\n",
    "print(chat_response.choices[0].message.content)"
   ]
  },
  {
   "cell_type": "code",
   "execution_count": null,
   "id": "c4d41c1c",
   "metadata": {},
   "outputs": [],
   "source": [
    "# Test 5.2 : Analysing an image with Mistral Small\n",
    "\n",
    "chat_response = client.chat.complete(\n",
    "    model = \"mistral-small-latest\",\n",
    "    messages=messages\n",
    ")\n",
    "\n",
    "# Print the content of the response\n",
    "print(chat_response.choices[0].message.content)"
   ]
  },
  {
   "cell_type": "code",
   "execution_count": null,
   "id": "8477cae7",
   "metadata": {},
   "outputs": [],
   "source": [
    "# Test 5.3 : Analysing an image with Pixtral 12B\n",
    "\n",
    "chat_response = client.chat.complete(\n",
    "    model = \"pixtral-12b-latest\",\n",
    "    messages=messages\n",
    ")\n",
    "\n",
    "# Print the content of the response\n",
    "print(chat_response.choices[0].message.content)"
   ]
  },
  {
   "cell_type": "code",
   "execution_count": null,
   "id": "babc94c7",
   "metadata": {},
   "outputs": [],
   "source": [
    "# Test 5.4 : Analysing an image with Pixtral Large 2411\n",
    "\n",
    "chat_response = client.chat.complete(\n",
    "    model = \"pixtral-large-latest\",\n",
    "    messages=messages\n",
    ")\n",
    "\n",
    "# Print the content of the response\n",
    "print(chat_response.choices[0].message.content)"
   ]
  }
 ],
 "metadata": {
  "kernelspec": {
   "display_name": "Python 3 (ipykernel)",
   "language": "python",
   "name": "python3"
  },
  "language_info": {
   "codemirror_mode": {
    "name": "ipython",
    "version": 3
   },
   "file_extension": ".py",
   "mimetype": "text/x-python",
   "name": "python",
   "nbconvert_exporter": "python",
   "pygments_lexer": "ipython3",
   "version": "3.10.9"
  }
 },
 "nbformat": 4,
 "nbformat_minor": 5
}

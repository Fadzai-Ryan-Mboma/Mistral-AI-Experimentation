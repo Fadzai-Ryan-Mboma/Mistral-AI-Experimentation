{
 "cells": [
  {
   "cell_type": "code",
   "execution_count": 1,
   "id": "6307454e",
   "metadata": {},
   "outputs": [
    {
     "name": "stdout",
     "output_type": "stream",
     "text": [
      "Requirement already satisfied: mistralai in c:\\users\\fadzai.mboma\\appdata\\local\\anaconda3\\lib\\site-packages (1.9.10)\n",
      "Requirement already satisfied: httpx>=0.28.1 in c:\\users\\fadzai.mboma\\appdata\\local\\anaconda3\\lib\\site-packages (from mistralai) (0.28.1)\n",
      "Requirement already satisfied: eval-type-backport>=0.2.0 in c:\\users\\fadzai.mboma\\appdata\\local\\anaconda3\\lib\\site-packages (from mistralai) (0.2.2)\n",
      "Requirement already satisfied: pydantic>=2.10.3 in c:\\users\\fadzai.mboma\\appdata\\local\\anaconda3\\lib\\site-packages (from mistralai) (2.11.7)\n",
      "Requirement already satisfied: pyyaml<7.0.0,>=6.0.2 in c:\\users\\fadzai.mboma\\appdata\\local\\anaconda3\\lib\\site-packages (from mistralai) (6.0.2)\n",
      "Requirement already satisfied: python-dateutil>=2.8.2 in c:\\users\\fadzai.mboma\\appdata\\local\\anaconda3\\lib\\site-packages (from mistralai) (2.8.2)\n",
      "Requirement already satisfied: invoke<3.0.0,>=2.2.0 in c:\\users\\fadzai.mboma\\appdata\\local\\anaconda3\\lib\\site-packages (from mistralai) (2.2.0)\n",
      "Requirement already satisfied: typing-inspection>=0.4.0 in c:\\users\\fadzai.mboma\\appdata\\local\\anaconda3\\lib\\site-packages (from mistralai) (0.4.1)\n",
      "Requirement already satisfied: httpcore==1.* in c:\\users\\fadzai.mboma\\appdata\\local\\anaconda3\\lib\\site-packages (from httpx>=0.28.1->mistralai) (1.0.9)\n",
      "Requirement already satisfied: idna in c:\\users\\fadzai.mboma\\appdata\\local\\anaconda3\\lib\\site-packages (from httpx>=0.28.1->mistralai) (3.4)\n",
      "Requirement already satisfied: anyio in c:\\users\\fadzai.mboma\\appdata\\local\\anaconda3\\lib\\site-packages (from httpx>=0.28.1->mistralai) (3.5.0)\n",
      "Requirement already satisfied: certifi in c:\\users\\fadzai.mboma\\appdata\\local\\anaconda3\\lib\\site-packages (from httpx>=0.28.1->mistralai) (2025.8.3)\n",
      "Requirement already satisfied: h11>=0.16 in c:\\users\\fadzai.mboma\\appdata\\local\\anaconda3\\lib\\site-packages (from httpcore==1.*->httpx>=0.28.1->mistralai) (0.16.0)\n",
      "Requirement already satisfied: typing-extensions>=4.12.2 in c:\\users\\fadzai.mboma\\appdata\\local\\anaconda3\\lib\\site-packages (from pydantic>=2.10.3->mistralai) (4.15.0)\n",
      "Requirement already satisfied: pydantic-core==2.33.2 in c:\\users\\fadzai.mboma\\appdata\\local\\anaconda3\\lib\\site-packages (from pydantic>=2.10.3->mistralai) (2.33.2)\n",
      "Requirement already satisfied: annotated-types>=0.6.0 in c:\\users\\fadzai.mboma\\appdata\\local\\anaconda3\\lib\\site-packages (from pydantic>=2.10.3->mistralai) (0.7.0)\n",
      "Requirement already satisfied: six>=1.5 in c:\\users\\fadzai.mboma\\appdata\\local\\anaconda3\\lib\\site-packages (from python-dateutil>=2.8.2->mistralai) (1.16.0)\n",
      "Requirement already satisfied: sniffio>=1.1 in c:\\users\\fadzai.mboma\\appdata\\local\\anaconda3\\lib\\site-packages (from anyio->httpx>=0.28.1->mistralai) (1.2.0)\n",
      "Note: you may need to restart the kernel to use updated packages.\n"
     ]
    }
   ],
   "source": [
    "pip install mistralai"
   ]
  },
  {
   "cell_type": "code",
   "execution_count": 3,
   "id": "3d4919d3",
   "metadata": {},
   "outputs": [],
   "source": [
    "import os\n",
    "import httpx\n",
    "from mistralai import Mistral\n",
    "\n",
    "client_httpx = httpx.Client(verify=False)\n",
    "\n",
    "api_key = \"76yvXhlBM63qCdkGKh5SCgTmT1QyMHCV\"\n",
    "\n",
    "client = Mistral(api_key=api_key, client=client_httpx)"
   ]
  },
  {
   "cell_type": "code",
   "execution_count": 4,
   "id": "96f56914",
   "metadata": {},
   "outputs": [
    {
     "name": "stdout",
     "output_type": "stream",
     "text": [
      "**Shona:** \"Kwaura hwawo haasi kudya.\"\n",
      "\n",
      "**Swahili:** \"Sasa ni asubuhi njema.\"\n"
     ]
    }
   ],
   "source": [
    "# Test 1.1: This is a fine chill morning (Translate to Shona and Swahili) with Mistral Medium as user\n",
    "\n",
    "chat_response = client.chat.complete(\n",
    "    model = \"mistral-tiny-latest\",\n",
    "    messages=[\n",
    "        {\n",
    "            \"role\": \"user\",\n",
    "            \"content\": \"Translate to Shona and Swahili : This is a fine chill morning\",\n",
    "        },\n",
    "    ]\n",
    ")\n",
    "\n",
    "print(chat_response.choices[0].message.content)"
   ]
  },
  {
   "cell_type": "code",
   "execution_count": 5,
   "id": "89afdc56",
   "metadata": {},
   "outputs": [
    {
     "name": "stdout",
     "output_type": "stream",
     "text": [
      "Here are the translations of **\"This is a fine chill morning\"** in **Shona** and **Swahili**:\n",
      "\n",
      "### **Shona:**\n",
      "*\"Iyi zuva ndiro rwendo rwakakosha, rinonaka.\"*\n",
      "\n",
      "*(Alternative, more natural phrasing: \"Iyi zuva rinonaka, rinokosha.\")*\n",
      "\n",
      "### **Swahili:**\n",
      "*\"Asubuhi hii ni baridi na nzuri.\"*\n",
      "\n",
      "*(Alternative: \"Asubuhi hii ni baridi na ya furaha.\")*\n",
      "\n",
      "Would you like any adjustments for a specific dialect or tone?\n"
     ]
    }
   ],
   "source": [
    "# Test 1.2: This is a fine chill morning (Translate to Shona and Swahili) with Mistral Medium as system\n",
    "\n",
    "chat_response = client.chat.complete(\n",
    "    model = \"mistral-large-latest\",\n",
    "    messages=[\n",
    "        {\n",
    "            \"role\": \"system\",\n",
    "            \"content\": \"Translate to Shona and Swahili : This is a fine chill morning\",\n",
    "        },\n",
    "    ]\n",
    ")\n",
    "\n",
    "print(chat_response.choices[0].message.content)"
   ]
  },
  {
   "cell_type": "code",
   "execution_count": null,
   "id": "909d507a",
   "metadata": {},
   "outputs": [],
   "source": [
    "# Test 1.2: This is a fine chill morning (Translate to Shona and Swahili) with Mistral Small\n",
    "\n",
    "chat_response = client.chat.complete(\n",
    "    model = \"mistral-small-latest\",\n",
    "    messages=[\n",
    "        {\n",
    "            \"role\": \"system\",\n",
    "            \"content\": \"Translate to Shona and Swahili : This is a fine chill morning\",\n",
    "        },\n",
    "    ]\n",
    ")\n",
    "\n",
    "print(chat_response.choices[0].message.content)"
   ]
  },
  {
   "cell_type": "code",
   "execution_count": null,
   "id": "9b1b6300",
   "metadata": {},
   "outputs": [],
   "source": [
    "# Test 2.1: May you please help me. I need medical help and l am not sure of where to go \n",
    "# (Translate to Shona and Swahili) with Mistral Medium\n",
    "\n",
    "chat_response = client.chat.complete(\n",
    "    model = \"mistral-large-latest\",\n",
    "    messages=[\n",
    "        {\n",
    "            \"role\": \"system\",\n",
    "            \"content\": \"Translate to Shona and Swahili : May you please help me. I need medical help and l am not sure of where to go\",\n",
    "        },\n",
    "    ]\n",
    ")\n",
    "\n",
    "print(chat_response.choices[0].message.content)"
   ]
  },
  {
   "cell_type": "code",
   "execution_count": null,
   "id": "b239434c",
   "metadata": {},
   "outputs": [],
   "source": [
    "# Test 2.2: May you please help me. I need medical help and l am not sure of where to go \n",
    "# (Translate to Shona and Swahili) with Mistral Small\n",
    "\n",
    "chat_response = client.chat.complete(\n",
    "    model = \"mistral-small-latest\",\n",
    "    messages=[\n",
    "        {\n",
    "            \"role\": \"system\",\n",
    "            \"content\": \"Translate to Shona and Swahili : May you please help me. I need medical help and l am not sure of where to go\",\n",
    "        },\n",
    "    ]\n",
    ")\n",
    "\n",
    "print(chat_response.choices[0].message.content)"
   ]
  },
  {
   "cell_type": "code",
   "execution_count": null,
   "id": "3b3f4e6e",
   "metadata": {},
   "outputs": [],
   "source": [
    "# Test 3.1: Jina langu ni Aisha. Mimi ni mwanafunzi wa Chuo Kikuu. Natoka katika mji wa Mombasa. \n",
    "# Ninaishi na familia yangu. Ninapenda kusoma vitabu na kucheza mpira wa kikapu. \n",
    "# Rafiki yangu wa karibu anaitwa David. Yeye ni mchezaji wa mpira wa miguu. \n",
    "# Tunafurahi sana tunapokuwa pamoja.  \n",
    "# (Translate to Shona and English) with Mistral Medium\n",
    "\n",
    "chat_response = client.chat.complete(\n",
    "    model = \"mistral-medium-latest\",\n",
    "    messages=[\n",
    "        {\n",
    "            \"role\": \"system\",\n",
    "            \"content\": \"Translate to Shona and English : Jina langu ni Aisha. Mimi ni mwanafunzi wa Chuo Kikuu. Natoka katika mji wa Mombasa. Ninaishi na familia yangu. Ninapenda kusoma vitabu na kucheza mpira wa kikapu. Rafiki yangu wa karibu anaitwa David. Yeye ni mchezaji wa mpira wa miguu. Tunafurahi sana tunapokuwa pamoja.\",\n",
    "        },\n",
    "    ]\n",
    ")\n",
    "\n",
    "print(chat_response.choices[0].message.content)"
   ]
  },
  {
   "cell_type": "code",
   "execution_count": null,
   "id": "047c5003",
   "metadata": {},
   "outputs": [],
   "source": [
    "# Test 3.2: Jina langu ni Aisha. Mimi ni mwanafunzi wa Chuo Kikuu. Natoka katika mji wa Mombasa. \n",
    "# Ninaishi na familia yangu. Ninapenda kusoma vitabu na kucheza mpira wa kikapu. \n",
    "# Rafiki yangu wa karibu anaitwa David. Yeye ni mchezaji wa mpira wa miguu. \n",
    "# Tunafurahi sana tunapokuwa pamoja.  \n",
    "# (Translate to Shona and English) with Mistral Small\n",
    "\n",
    "chat_response = client.chat.complete(\n",
    "    model = \"mistral-small-latest\",\n",
    "    messages=[\n",
    "        {\n",
    "            \"role\": \"system\",\n",
    "            \"content\": \"Translate to Shona and English : Jina langu ni Aisha. Mimi ni mwanafunzi wa Chuo Kikuu. Natoka katika mji wa Mombasa. Ninaishi na familia yangu. Ninapenda kusoma vitabu na kucheza mpira wa kikapu. Rafiki yangu wa karibu anaitwa David. Yeye ni mchezaji wa mpira wa miguu. Tunafurahi sana tunapokuwa pamoja.\",\n",
    "        },\n",
    "    ]\n",
    ")\n",
    "\n",
    "print(chat_response.choices[0].message.content)"
   ]
  },
  {
   "cell_type": "code",
   "execution_count": null,
   "id": "df6c8b8a",
   "metadata": {},
   "outputs": [],
   "source": [
    "# Test 4.1: Hesi Shamwari, wakadii nhasi? Ini ndiripo zvangu. Ndirikuenda kumba, asi tichasanganazve mangwanya. \n",
    "# Uve nezuva rakanaka!  \n",
    "# (Translate to English and Swahili) with Mistral Medium\n",
    "\n",
    "chat_response = client.chat.complete(\n",
    "    model = \"mistral-large-latest\",\n",
    "    messages=[\n",
    "        {\n",
    "            \"role\": \"system\",\n",
    "            \"content\": \"Translate to English and Swahili : Hesi Shamwari, wakadii nhasi? Ini ndiripo zvangu. Ndirikuenda kumba, asi tichasanganazve mangwanya. Uve nezuva rakanaka!\",\n",
    "        },\n",
    "    ]\n",
    ")\n",
    "\n",
    "print(chat_response.choices[0].message.content)"
   ]
  },
  {
   "cell_type": "code",
   "execution_count": null,
   "id": "5422857a",
   "metadata": {
    "scrolled": true
   },
   "outputs": [],
   "source": [
    "# Test 4.2: Hesi Shamwari, wakadii nhasi? Ini ndiripo zvangu. Ndirikuenda kumba, asi tichasanganazve mangwanya. \n",
    "# Uve nezuva rakanaka!  \n",
    "# (Translate to English and Swahili) with Mistral Small\n",
    "\n",
    "chat_response = client.chat.complete(\n",
    "    model = \"mistral-small-latest\",\n",
    "    messages=[\n",
    "        {\n",
    "            \"role\": \"system\",\n",
    "            \"content\": \"Translate to English and Swahili : Hesi Shamwari, wakadii nhasi? Ini ndiripo zvangu. Ndirikuenda kumba, asi tichasanganazve mangwanya. Uve nezuva rakanaka!\",\n",
    "        },\n",
    "    ]\n",
    ")\n",
    "\n",
    "print(chat_response.choices[0].message.content)"
   ]
  },
  {
   "cell_type": "code",
   "execution_count": null,
   "id": "cf75a831",
   "metadata": {},
   "outputs": [],
   "source": [
    "# Test 5 : Analysing an image - Blocks on floor\n",
    "\n",
    "messages = [\n",
    "    {\n",
    "        \"role\": \"user\",\n",
    "        \"content\": [\n",
    "            {\"type\": \"text\", \"text\": \"How many yellow containers are in this image?\"},\n",
    "            {\"type\": \"image_url\", \"image_url\": \"https://private-user-images.githubusercontent.com/228657294/486017255-28ecb86d-fcfb-4cdd-ba08-646b6260c24c.png?jwt=eyJ0eXAiOiJKV1QiLCJhbGciOiJIUzI1NiJ9.eyJpc3MiOiJnaXRodWIuY29tIiwiYXVkIjoicmF3LmdpdGh1YnVzZXJjb250ZW50LmNvbSIsImtleSI6ImtleTUiLCJleHAiOjE3NTcwNjE0MTMsIm5iZiI6MTc1NzA2MTExMywicGF0aCI6Ii8yMjg2NTcyOTQvNDg2MDE3MjU1LTI4ZWNiODZkLWZjZmItNGNkZC1iYTA4LTY0NmI2MjYwYzI0Yy5wbmc_WC1BbXotQWxnb3JpdGhtPUFXUzQtSE1BQy1TSEEyNTYmWC1BbXotQ3JlZGVudGlhbD1BS0lBVkNPRFlMU0E1M1BRSzRaQSUyRjIwMjUwOTA1JTJGdXMtZWFzdC0xJTJGczMlMkZhd3M0X3JlcXVlc3QmWC1BbXotRGF0ZT0yMDI1MDkwNVQwODMxNTNaJlgtQW16LUV4cGlyZXM9MzAwJlgtQW16LVNpZ25hdHVyZT00ZmMwM2RiOTlhNDIwMzVlMWJhY2VlYTY4ZmFkYzBjZjI2M2UwNmMxZjZhZmI0NmU2YzRhZmQxZDA3MjBmZjI4JlgtQW16LVNpZ25lZEhlYWRlcnM9aG9zdCJ9.UWbD40PkCt4MEyePyCsv9om53PPUGFFmqHLtkGDeZHY\"}\n",
    "        ]\n",
    "    }\n",
    "]\n"
   ]
  },
  {
   "cell_type": "code",
   "execution_count": null,
   "id": "9c92c487",
   "metadata": {},
   "outputs": [],
   "source": [
    "# Test 5.1 : Analysing an image with Mistral Medium\n",
    "\n",
    "chat_response = client.chat.complete(\n",
    "    model = \"mistral-medium-latest\",\n",
    "    messages=messages\n",
    ")\n",
    "\n",
    "# Print the content of the response\n",
    "print(chat_response.choices[0].message.content)"
   ]
  },
  {
   "cell_type": "code",
   "execution_count": null,
   "id": "c4d41c1c",
   "metadata": {},
   "outputs": [],
   "source": [
    "# Test 5.2 : Analysing an image with Mistral Small\n",
    "\n",
    "chat_response = client.chat.complete(\n",
    "    model = \"mistral-small-latest\",\n",
    "    messages=messages\n",
    ")\n",
    "\n",
    "# Print the content of the response\n",
    "print(chat_response.choices[0].message.content)"
   ]
  },
  {
   "cell_type": "code",
   "execution_count": null,
   "id": "8477cae7",
   "metadata": {},
   "outputs": [],
   "source": [
    "# Test 5.3 : Analysing an image with Pixtral 12B\n",
    "\n",
    "chat_response = client.chat.complete(\n",
    "    model = \"pixtral-12b-latest\",\n",
    "    messages=messages\n",
    ")\n",
    "\n",
    "# Print the content of the response\n",
    "print(chat_response.choices[0].message.content)"
   ]
  },
  {
   "cell_type": "code",
   "execution_count": null,
   "id": "babc94c7",
   "metadata": {},
   "outputs": [],
   "source": [
    "# Test 5.4 : Analysing an image with Pixtral Large 2411\n",
    "\n",
    "chat_response = client.chat.complete(\n",
    "    model = \"pixtral-large-latest\",\n",
    "    messages=messages\n",
    ")\n",
    "\n",
    "# Print the content of the response\n",
    "print(chat_response.choices[0].message.content)"
   ]
  },
  {
   "cell_type": "code",
   "execution_count": null,
   "id": "3fd9011a",
   "metadata": {},
   "outputs": [],
   "source": [
    "# Test 6 : Analysing an image - Car with license plate\n",
    "\n",
    "messages = [\n",
    "    {\n",
    "        \"role\": \"user\",\n",
    "        \"content\": [\n",
    "            {\"type\": \"text\", \"text\": \"Describe the attached image?\"},\n",
    "            {\"type\": \"image_url\", \"image_url\":\"https://private-user-images.githubusercontent.com/228657294/486018168-be0a6708-03e5-4260-98ec-86cfcae6c6be.png?jwt=eyJ0eXAiOiJKV1QiLCJhbGciOiJIUzI1NiJ9.eyJpc3MiOiJnaXRodWIuY29tIiwiYXVkIjoicmF3LmdpdGh1YnVzZXJjb250ZW50LmNvbSIsImtleSI6ImtleTUiLCJleHAiOjE3NTcwNjE2MTksIm5iZiI6MTc1NzA2MTMxOSwicGF0aCI6Ii8yMjg2NTcyOTQvNDg2MDE4MTY4LWJlMGE2NzA4LTAzZTUtNDI2MC05OGVjLTg2Y2ZjYWU2YzZiZS5wbmc_WC1BbXotQWxnb3JpdGhtPUFXUzQtSE1BQy1TSEEyNTYmWC1BbXotQ3JlZGVudGlhbD1BS0lBVkNPRFlMU0E1M1BRSzRaQSUyRjIwMjUwOTA1JTJGdXMtZWFzdC0xJTJGczMlMkZhd3M0X3JlcXVlc3QmWC1BbXotRGF0ZT0yMDI1MDkwNVQwODM1MTlaJlgtQW16LUV4cGlyZXM9MzAwJlgtQW16LVNpZ25hdHVyZT04NmU2ZmQ1NmU5ZTkzODJkYzAyYmY4YmE4YmRiYTljZTc1YmY0ZTZiOWU3ZmFjNjhkMzA0ZmMxMWE5M2ZiN2ZiJlgtQW16LVNpZ25lZEhlYWRlcnM9aG9zdCJ9.aBF4T9O94Cng7QxphzMiBrnqbnNnzt_lUxyip-mld50\"}\n",
    "        ]\n",
    "    }\n",
    "]"
   ]
  },
  {
   "cell_type": "code",
   "execution_count": null,
   "id": "fca201b1",
   "metadata": {},
   "outputs": [],
   "source": [
    "# Test 6.1 : Analysing an image with Mistral Medium\n",
    "\n",
    "chat_response = client.chat.complete(\n",
    "    model = \"mistral-medium-latest\",\n",
    "    messages=messages\n",
    ")\n",
    "\n",
    "# Print the content of the response\n",
    "print(chat_response.choices[0].message.content)"
   ]
  },
  {
   "cell_type": "code",
   "execution_count": null,
   "id": "ebb5d82b",
   "metadata": {},
   "outputs": [],
   "source": [
    "# Test 6.2 : Analysing an image with Mistral Small\n",
    "\n",
    "chat_response = client.chat.complete(\n",
    "    model = \"mistral-small-latest\",\n",
    "    messages=messages\n",
    ")\n",
    "\n",
    "# Print the content of the response\n",
    "print(chat_response.choices[0].message.content)"
   ]
  },
  {
   "cell_type": "code",
   "execution_count": null,
   "id": "878c3967",
   "metadata": {},
   "outputs": [],
   "source": [
    "# Test 6.3 : Analysing an image with Pixtral 12B\n",
    "\n",
    "chat_response = client.chat.complete(\n",
    "    model = \"pixtral-12b-latest\",\n",
    "    messages=messages\n",
    ")\n",
    "\n",
    "# Print the content of the response\n",
    "print(chat_response.choices[0].message.content)"
   ]
  },
  {
   "cell_type": "code",
   "execution_count": null,
   "id": "a02adf37",
   "metadata": {},
   "outputs": [],
   "source": [
    "# Test 6.4 : Analysing an image with Pixtral Large 2411\n",
    "\n",
    "chat_response = client.chat.complete(\n",
    "    model = \"pixtral-large-latest\",\n",
    "    messages=messages\n",
    ")\n",
    "\n",
    "# Print the content of the response\n",
    "print(chat_response.choices[0].message.content)"
   ]
  },
  {
   "cell_type": "code",
   "execution_count": null,
   "id": "7bda198a",
   "metadata": {},
   "outputs": [],
   "source": [
    "# Test 7,8,9: Document desciption\n",
    "\n",
    "# local document, upload and retrieval\n",
    "uploaded_pdf = client.files.upload(\n",
    "    file={\n",
    "        \"file_name\": \"ZTA Email Migration.pdf\",\n",
    "        \"content\": open(\"ZTA Email Migration.pdf\", \"rb\"),\n",
    "        },\n",
    "       purpose=\"ocr\"\n",
    "    )\n",
    "signed_url = client.files.get_signed_url(file_id=uploaded_pdf.id)\n"
   ]
  },
  {
   "cell_type": "code",
   "execution_count": null,
   "id": "204e61ea",
   "metadata": {},
   "outputs": [],
   "source": [
    "# Test 7: Document description query\n",
    "\n",
    "messages = [\n",
    "    {\n",
    "        \"role\": \"user\",\n",
    "        \"content\": [\n",
    "            {\"type\": \"text\", \"text\": \"May you describe the pdf document that was shared ?\"},\n",
    "            {\"type\": \"document_url\", \"document_url\": signed_url.url}\n",
    "        ]\n",
    "    }\n",
    "]"
   ]
  },
  {
   "cell_type": "code",
   "execution_count": null,
   "id": "b5338f8d",
   "metadata": {},
   "outputs": [],
   "source": [
    "# Test 7.1 : Analysing an doc with Mistral Medium\n",
    "\n",
    "chat_response = client.chat.complete(\n",
    "    model = \"mistral-medium-latest\",\n",
    "    messages=messages\n",
    ")\n",
    "\n",
    "# Print the content of the response\n",
    "print(chat_response.choices[0].message.content)"
   ]
  },
  {
   "cell_type": "code",
   "execution_count": null,
   "id": "e1ac3320",
   "metadata": {},
   "outputs": [],
   "source": [
    "# Test 7.2 : Analysing an doc with Mistral Small\n",
    "\n",
    "chat_response = client.chat.complete(\n",
    "    model = \"mistral-small-latest\",\n",
    "    messages=messages\n",
    ")\n",
    "\n",
    "# Print the content of the response\n",
    "print(chat_response.choices[0].message.content)"
   ]
  },
  {
   "cell_type": "code",
   "execution_count": null,
   "id": "05abd3d9",
   "metadata": {},
   "outputs": [],
   "source": [
    "# Test 8: Document information query\n",
    "\n",
    "messages = [\n",
    "    {\n",
    "        \"role\": \"user\",\n",
    "        \"content\": [\n",
    "            {\"type\": \"text\", \"text\": \"May you list the implantation team on the pdf document.  ?\"},\n",
    "            {\"type\": \"document_url\", \"document_url\": signed_url.url}\n",
    "        ]\n",
    "    }\n",
    "]"
   ]
  },
  {
   "cell_type": "code",
   "execution_count": null,
   "id": "e99a5dc2",
   "metadata": {},
   "outputs": [],
   "source": [
    "# Test 8.1 : Document information query with Mistral Medium\n",
    "\n",
    "chat_response = client.chat.complete(\n",
    "    model = \"mistral-medium-latest\",\n",
    "    messages=messages\n",
    ")\n",
    "\n",
    "# Print the content of the response\n",
    "print(chat_response.choices[0].message.content)"
   ]
  },
  {
   "cell_type": "code",
   "execution_count": null,
   "id": "519011fe",
   "metadata": {},
   "outputs": [],
   "source": [
    "# Test 8.2 : Document information query with Mistral Small\n",
    "\n",
    "chat_response = client.chat.complete(\n",
    "    model = \"mistral-small-latest\",\n",
    "    messages=messages\n",
    ")\n",
    "\n",
    "# Print the content of the response\n",
    "print(chat_response.choices[0].message.content)"
   ]
  },
  {
   "cell_type": "code",
   "execution_count": null,
   "id": "605092ec",
   "metadata": {},
   "outputs": [],
   "source": [
    "# Test 9: Document information query for image\n",
    "\n",
    "messages = [\n",
    "    {\n",
    "        \"role\": \"user\",\n",
    "        \"content\": [\n",
    "            {\"type\": \"text\", \"text\": \"Can you describe the image on page 1\"},\n",
    "            {\"type\": \"document_url\", \"document_url\": signed_url.url}\n",
    "        ]\n",
    "    }\n",
    "]"
   ]
  },
  {
   "cell_type": "code",
   "execution_count": null,
   "id": "386448f0",
   "metadata": {},
   "outputs": [],
   "source": [
    "# Test 9.1 : Document information query for image with Mistral Medium\n",
    "\n",
    "chat_response = client.chat.complete(\n",
    "    model = \"mistral-medium-latest\",\n",
    "    messages=messages\n",
    ")\n",
    "\n",
    "# Print the content of the response\n",
    "print(chat_response.choices[0].message.content)"
   ]
  },
  {
   "cell_type": "code",
   "execution_count": null,
   "id": "4eb4f32f",
   "metadata": {},
   "outputs": [],
   "source": [
    "# Test 9.2 : Document information query for image with Mistral Small\n",
    "\n",
    "chat_response = client.chat.complete(\n",
    "    model = \"mistral-small-latest\",\n",
    "    messages=messages\n",
    ")\n",
    "\n",
    "# Print the content of the response\n",
    "print(chat_response.choices[0].message.content)"
   ]
  },
  {
   "cell_type": "code",
   "execution_count": null,
   "id": "2733e91d",
   "metadata": {},
   "outputs": [],
   "source": [
    "# Test 10 : Information query from audio\n",
    "\n",
    "messages = [\n",
    "    {\n",
    "        \"role\": \"user\",\n",
    "        \"content\": [\n",
    "             {\n",
    "                \"type\": \"input_audio\",\"input_audio\": \"https://openaiassets.blob.core.windows.net/$web/API/docs/audio/alloy.wav\",\n",
    "             },\n",
    "             {\n",
    "                \"type\": \"text\",\"text\": \"Can you put this audio to speech ?\"\n",
    "            }  \n",
    "        ]\n",
    "    }\n",
    "]"
   ]
  },
  {
   "cell_type": "code",
   "execution_count": null,
   "id": "b9bab397",
   "metadata": {},
   "outputs": [],
   "source": [
    "# Test 10.1 : Audio to speech with Voxtral Small\n",
    "\n",
    "chat_response = client.chat.complete(\n",
    "    model = \"voxtral-small-latest\",\n",
    "    messages=messages\n",
    ")\n",
    "\n",
    "# Print the content of the response\n",
    "print(chat_response.choices[0].message.content)"
   ]
  },
  {
   "cell_type": "code",
   "execution_count": null,
   "id": "b41e99df",
   "metadata": {},
   "outputs": [],
   "source": [
    "# Test 10.2 : Audio to speech with Voxtral Mini\n",
    "\n",
    "chat_response = client.chat.complete(\n",
    "    model = \"voxtral-mini-latest\",\n",
    "    messages=messages\n",
    ")\n",
    "\n",
    "# Print the content of the response\n",
    "print(chat_response.choices[0].message.content)"
   ]
  },
  {
   "cell_type": "code",
   "execution_count": null,
   "id": "0f26c096",
   "metadata": {},
   "outputs": [],
   "source": [
    "# Test 10.3 : Audio to speech with Voxtral Mini Transcribe \n",
    "\n",
    "transcription_response = client.audio.transcriptions.complete(\n",
    "    model= \"voxtral-mini-latest\",\n",
    "    file_url=\"https://openaiassets.blob.core.windows.net/$web/API/docs/audio/alloy.wav\",\n",
    "    timestamp_granularities=[\"segment\"]\n",
    ")\n",
    "\n",
    "# Print the content of the response\n",
    "print(transcription_response)"
   ]
  },
  {
   "cell_type": "code",
   "execution_count": null,
   "id": "72031b87",
   "metadata": {},
   "outputs": [],
   "source": [
    "# Test 11 : Translate query from audio\n",
    "\n",
    "messages = [\n",
    "    {\n",
    "        \"role\": \"user\",\n",
    "        \"content\": [\n",
    "             {\n",
    "                \"type\": \"input_audio\",\"input_audio\": \"https://openaiassets.blob.core.windows.net/$web/API/docs/audio/alloy.wav\",\n",
    "             },\n",
    "             {\n",
    "                \"type\": \"text\",\"text\": \"Translate the audio to Shona and Swahili. Output should be text.\"\n",
    "            }  \n",
    "        ]\n",
    "    }\n",
    "]"
   ]
  },
  {
   "cell_type": "code",
   "execution_count": null,
   "id": "752c01ee",
   "metadata": {},
   "outputs": [],
   "source": [
    "# Test 11.1 : Translate query from audio with Voxtral Small\n",
    "\n",
    "chat_response = client.chat.complete(\n",
    "    model = \"voxtral-small-latest\",\n",
    "    messages=messages\n",
    ")\n",
    "\n",
    "# Print the content of the response\n",
    "print(chat_response.choices[0].message.content)"
   ]
  },
  {
   "cell_type": "code",
   "execution_count": null,
   "id": "3b06c7a6",
   "metadata": {
    "scrolled": true
   },
   "outputs": [],
   "source": [
    "# Test 11.2 : Translate query from audio with Voxtral Mini\n",
    "\n",
    "chat_response = client.chat.complete(\n",
    "    model = \"voxtral-mini-latest\",\n",
    "    messages=messages\n",
    ")\n",
    "\n",
    "# Print the content of the response\n",
    "print(chat_response.choices[0].message.content)"
   ]
  },
  {
   "cell_type": "code",
   "execution_count": null,
   "id": "5f2fd40f",
   "metadata": {},
   "outputs": [],
   "source": [
    "# Test 12 : Translate query from audio, with audio output\n",
    "\n",
    "messages = [\n",
    "    {\n",
    "        \"role\": \"user\",\n",
    "        \"content\": [\n",
    "             {\n",
    "                \"type\": \"input_audio\",\"input_audio\": \"https://openaiassets.blob.core.windows.net/$web/API/docs/audio/alloy.wav\",\n",
    "             },\n",
    "             {\n",
    "                \"type\": \"text\",\"text\": \"Translate the audio to Shona and Swahili. Output should be audio.\"\n",
    "            }  \n",
    "        ]\n",
    "    }\n",
    "]"
   ]
  },
  {
   "cell_type": "code",
   "execution_count": null,
   "id": "347768cf",
   "metadata": {},
   "outputs": [],
   "source": [
    "# Test 12.1 : Translate query from audio, with audio output with Voxtral Small\n",
    "\n",
    "chat_response = client.chat.complete(\n",
    "    model = \"voxtral-small-latest\",\n",
    "    messages=messagesac\n",
    ")\n",
    "\n",
    "# Print the content of the response\n",
    "print(chat_response.choices[0].message.content)"
   ]
  },
  {
   "cell_type": "code",
   "execution_count": null,
   "id": "f66c75c4",
   "metadata": {},
   "outputs": [],
   "source": [
    "Tests Completed"
   ]
  }
 ],
 "metadata": {
  "kernelspec": {
   "display_name": "Python 3 (ipykernel)",
   "language": "python",
   "name": "python3"
  },
  "language_info": {
   "codemirror_mode": {
    "name": "ipython",
    "version": 3
   },
   "file_extension": ".py",
   "mimetype": "text/x-python",
   "name": "python",
   "nbconvert_exporter": "python",
   "pygments_lexer": "ipython3",
   "version": "3.10.9"
  }
 },
 "nbformat": 4,
 "nbformat_minor": 5
}
